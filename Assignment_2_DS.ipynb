{
  "nbformat": 4,
  "nbformat_minor": 0,
  "metadata": {
    "colab": {
      "provenance": []
    },
    "kernelspec": {
      "name": "python3",
      "display_name": "Python 3"
    },
    "language_info": {
      "name": "python"
    }
  },
  "cells": [
    {
      "cell_type": "markdown",
      "source": [
        "#**Assignment_2_H20_AutoML**\n",
        "\n",
        "In this assignment, you will an AutoML library like H2O.ai to create predictive models and interpret them. Find a significant relation for each algorithm of your choosing in your data. Create multivariate models.\n",
        "For the moment you will assume the data is good. In future assignments, you will check your data, fix data issues and do some feature engineering.\n",
        "Answer the following questions for all of the models:\n",
        "* Is the relationship significant?\n",
        "* Are any model assumptions violated?\n",
        "* Is there any multicollinearity in the model?\n",
        "* In the multivariate models are predictor variables       * independent of all the other predictor variables?\n",
        "* In in multivariate models rank the most significant predictor variables and exclude insignificant ones from the model.\n",
        "* Does the model make sense?\n",
        "* Does regularization help?\n",
        "* Which independent variables are significant?\n",
        "* Which hyperparameters are important?"
      ],
      "metadata": {
        "id": "_g21TltBuMmj"
      }
    },
    {
      "cell_type": "markdown",
      "source": [
        "#### **Abstract**\n",
        "\n",
        "Problem Statement: Using H2O AutoML to train a model that will help us predict car prices. The dataset we will be working with contains information on various cars. The main aim of this project is to predict the price of used cars based on various features.\n",
        "\n",
        "#### **Variable Description**\n",
        "\n",
        "* `Car_Name` - The name of the car.\n",
        "* `Year` - The manufacturing year of the car (numeric).\n",
        "* `Selling_Price` - The selling price of the car (numeric).\n",
        "* `Present_Price` - The present price or current market value of the car (numeric).\n",
        "* `Kms_Driven` - The number of kilometers the car has been driven (numeric).\n",
        "* `Fuel_Type` - The type of fuel the car uses (categorical).\n",
        "* `Seller_Type` - The type of seller (e.g., dealer or individual) (categorical).\n",
        "* `Transmission` - The type of transmission (e.g., manual or automatic) (categorical).\n",
        "* `Owner` - The number of previous owners (categorical).\n",
        "\n",
        "Data se has 301 Rows and 9 columns\n",
        "\n",
        "**Numerical Features** :Year,Selling_Price,Present_Price,\n",
        "Kms_Driven\n",
        "\n",
        "**Categorical Features** :Car_Name,Fuel_Type,Seller_Type\n",
        "Transmission,Owner"
      ],
      "metadata": {
        "id": "wHa-OIZxukYW"
      }
    },
    {
      "cell_type": "code",
      "source": [
        "!apt-get install default-jre\n",
        "!java -version"
      ],
      "metadata": {
        "colab": {
          "base_uri": "https://localhost:8080/"
        },
        "id": "yt5QsQo0osJr",
        "outputId": "372b75eb-b023-4659-e263-0668191c01cc"
      },
      "execution_count": 64,
      "outputs": [
        {
          "output_type": "stream",
          "name": "stdout",
          "text": [
            "Reading package lists... Done\n",
            "Building dependency tree... Done\n",
            "Reading state information... Done\n",
            "default-jre is already the newest version (2:1.11-72build2).\n",
            "0 upgraded, 0 newly installed, 0 to remove and 33 not upgraded.\n",
            "openjdk version \"11.0.21\" 2023-10-17\n",
            "OpenJDK Runtime Environment (build 11.0.21+9-post-Ubuntu-0ubuntu122.04)\n",
            "OpenJDK 64-Bit Server VM (build 11.0.21+9-post-Ubuntu-0ubuntu122.04, mixed mode, sharing)\n"
          ]
        }
      ]
    },
    {
      "cell_type": "code",
      "source": [
        "!pip install h2o"
      ],
      "metadata": {
        "colab": {
          "base_uri": "https://localhost:8080/"
        },
        "id": "bAIh0iwWpzNb",
        "outputId": "d52dcc7d-d30e-4d24-e3d4-8634ee0d7607"
      },
      "execution_count": 65,
      "outputs": [
        {
          "output_type": "stream",
          "name": "stdout",
          "text": [
            "Requirement already satisfied: h2o in /usr/local/lib/python3.10/dist-packages (3.44.0.3)\n",
            "Requirement already satisfied: requests in /usr/local/lib/python3.10/dist-packages (from h2o) (2.31.0)\n",
            "Requirement already satisfied: tabulate in /usr/local/lib/python3.10/dist-packages (from h2o) (0.9.0)\n",
            "Requirement already satisfied: charset-normalizer<4,>=2 in /usr/local/lib/python3.10/dist-packages (from requests->h2o) (3.3.2)\n",
            "Requirement already satisfied: idna<4,>=2.5 in /usr/local/lib/python3.10/dist-packages (from requests->h2o) (3.6)\n",
            "Requirement already satisfied: urllib3<3,>=1.21.1 in /usr/local/lib/python3.10/dist-packages (from requests->h2o) (2.0.7)\n",
            "Requirement already satisfied: certifi>=2017.4.17 in /usr/local/lib/python3.10/dist-packages (from requests->h2o) (2024.2.2)\n"
          ]
        }
      ]
    },
    {
      "cell_type": "code",
      "source": [
        "# Load the H2O library and start up the H2O cluter locally on your machine\n",
        "import h2o\n",
        "import pandas as pd\n",
        "from h2o.automl import H2OAutoML\n",
        "import re\n",
        "import matplotlib.pylab as plt\n",
        "import numpy as np\n",
        "# Number of threads, nthreads = -1, means use all cores on your machine\n",
        "# max_mem_size is the maximum memory (in GB) to allocate to H2O\n",
        "h2o.init(nthreads = -1, max_mem_size = 8)"
      ],
      "metadata": {
        "id": "bIdr53nxqBNE",
        "colab": {
          "base_uri": "https://localhost:8080/",
          "height": 379
        },
        "outputId": "3673d939-1229-4828-8231-8a82b8674da0"
      },
      "execution_count": 66,
      "outputs": [
        {
          "output_type": "stream",
          "name": "stdout",
          "text": [
            "Checking whether there is an H2O instance running at http://localhost:54321. connected.\n"
          ]
        },
        {
          "output_type": "display_data",
          "data": {
            "text/plain": [
              "--------------------------  -----------------------------------------------------------------------------------------\n",
              "H2O_cluster_uptime:         14 mins 40 secs\n",
              "H2O_cluster_timezone:       Etc/UTC\n",
              "H2O_data_parsing_timezone:  UTC\n",
              "H2O_cluster_version:        3.44.0.3\n",
              "H2O_cluster_version_age:    1 month and 30 days\n",
              "H2O_cluster_name:           H2O_from_python_unknownUser_c9ebmy\n",
              "H2O_cluster_total_nodes:    1\n",
              "H2O_cluster_free_memory:    7.994 Gb\n",
              "H2O_cluster_total_cores:    2\n",
              "H2O_cluster_allowed_cores:  2\n",
              "H2O_cluster_status:         locked, healthy\n",
              "H2O_connection_url:         http://localhost:54321\n",
              "H2O_connection_proxy:       {\"http\": null, \"https\": null, \"colab_language_server\": \"/usr/colab/bin/language_service\"}\n",
              "H2O_internal_security:      False\n",
              "Python_version:             3.10.12 final\n",
              "--------------------------  -----------------------------------------------------------------------------------------"
            ],
            "text/html": [
              "\n",
              "<style>\n",
              "\n",
              "#h2o-table-6.h2o-container {\n",
              "  overflow-x: auto;\n",
              "}\n",
              "#h2o-table-6 .h2o-table {\n",
              "  /* width: 100%; */\n",
              "  margin-top: 1em;\n",
              "  margin-bottom: 1em;\n",
              "}\n",
              "#h2o-table-6 .h2o-table caption {\n",
              "  white-space: nowrap;\n",
              "  caption-side: top;\n",
              "  text-align: left;\n",
              "  /* margin-left: 1em; */\n",
              "  margin: 0;\n",
              "  font-size: larger;\n",
              "}\n",
              "#h2o-table-6 .h2o-table thead {\n",
              "  white-space: nowrap; \n",
              "  position: sticky;\n",
              "  top: 0;\n",
              "  box-shadow: 0 -1px inset;\n",
              "}\n",
              "#h2o-table-6 .h2o-table tbody {\n",
              "  overflow: auto;\n",
              "}\n",
              "#h2o-table-6 .h2o-table th,\n",
              "#h2o-table-6 .h2o-table td {\n",
              "  text-align: right;\n",
              "  /* border: 1px solid; */\n",
              "}\n",
              "#h2o-table-6 .h2o-table tr:nth-child(even) {\n",
              "  /* background: #F5F5F5 */\n",
              "}\n",
              "\n",
              "</style>      \n",
              "<div id=\"h2o-table-6\" class=\"h2o-container\">\n",
              "  <table class=\"h2o-table\">\n",
              "    <caption></caption>\n",
              "    <thead></thead>\n",
              "    <tbody><tr><td>H2O_cluster_uptime:</td>\n",
              "<td>14 mins 40 secs</td></tr>\n",
              "<tr><td>H2O_cluster_timezone:</td>\n",
              "<td>Etc/UTC</td></tr>\n",
              "<tr><td>H2O_data_parsing_timezone:</td>\n",
              "<td>UTC</td></tr>\n",
              "<tr><td>H2O_cluster_version:</td>\n",
              "<td>3.44.0.3</td></tr>\n",
              "<tr><td>H2O_cluster_version_age:</td>\n",
              "<td>1 month and 30 days</td></tr>\n",
              "<tr><td>H2O_cluster_name:</td>\n",
              "<td>H2O_from_python_unknownUser_c9ebmy</td></tr>\n",
              "<tr><td>H2O_cluster_total_nodes:</td>\n",
              "<td>1</td></tr>\n",
              "<tr><td>H2O_cluster_free_memory:</td>\n",
              "<td>7.994 Gb</td></tr>\n",
              "<tr><td>H2O_cluster_total_cores:</td>\n",
              "<td>2</td></tr>\n",
              "<tr><td>H2O_cluster_allowed_cores:</td>\n",
              "<td>2</td></tr>\n",
              "<tr><td>H2O_cluster_status:</td>\n",
              "<td>locked, healthy</td></tr>\n",
              "<tr><td>H2O_connection_url:</td>\n",
              "<td>http://localhost:54321</td></tr>\n",
              "<tr><td>H2O_connection_proxy:</td>\n",
              "<td>{\"http\": null, \"https\": null, \"colab_language_server\": \"/usr/colab/bin/language_service\"}</td></tr>\n",
              "<tr><td>H2O_internal_security:</td>\n",
              "<td>False</td></tr>\n",
              "<tr><td>Python_version:</td>\n",
              "<td>3.10.12 final</td></tr></tbody>\n",
              "  </table>\n",
              "</div>\n"
            ]
          },
          "metadata": {}
        }
      ]
    },
    {
      "cell_type": "markdown",
      "source": [
        "Importing H2O AutoML"
      ],
      "metadata": {
        "id": "-YqtK8Zg3c2Q"
      }
    },
    {
      "cell_type": "code",
      "source": [
        "df = h2o.import_file('cardekho_data.csv')"
      ],
      "metadata": {
        "colab": {
          "base_uri": "https://localhost:8080/"
        },
        "id": "v9Bq7IrHxREt",
        "outputId": "014061d8-1e79-4693-b11f-a6a639d74969"
      },
      "execution_count": 67,
      "outputs": [
        {
          "output_type": "stream",
          "name": "stdout",
          "text": [
            "Parse progress: |████████████████████████████████████████████████████████████████| (done) 100%\n"
          ]
        }
      ]
    },
    {
      "cell_type": "code",
      "source": [
        "car_csv = \"/content/cardekho_data.csv\"  # modify this for your machine\n",
        "data=pd.read_csv(\"/content/cardekho_data.csv\")\n",
        "data.info()"
      ],
      "metadata": {
        "id": "xM6S81Rqq2a6",
        "colab": {
          "base_uri": "https://localhost:8080/"
        },
        "outputId": "b0061e6c-fc7a-4b10-ec8f-d82df735b786"
      },
      "execution_count": 68,
      "outputs": [
        {
          "output_type": "stream",
          "name": "stdout",
          "text": [
            "<class 'pandas.core.frame.DataFrame'>\n",
            "RangeIndex: 301 entries, 0 to 300\n",
            "Data columns (total 9 columns):\n",
            " #   Column         Non-Null Count  Dtype  \n",
            "---  ------         --------------  -----  \n",
            " 0   Car_Name       301 non-null    object \n",
            " 1   Year           301 non-null    int64  \n",
            " 2   Selling_Price  301 non-null    float64\n",
            " 3   Present_Price  301 non-null    float64\n",
            " 4   Kms_Driven     301 non-null    int64  \n",
            " 5   Fuel_Type      301 non-null    object \n",
            " 6   Seller_Type    301 non-null    object \n",
            " 7   Transmission   301 non-null    object \n",
            " 8   Owner          301 non-null    int64  \n",
            "dtypes: float64(2), int64(3), object(4)\n",
            "memory usage: 21.3+ KB\n"
          ]
        }
      ]
    },
    {
      "cell_type": "markdown",
      "source": [
        "##Observations:\n",
        "* There are no missing values in any of the columns.\n",
        "* The 'Owner' column has 290 zeros, indicating a large number of entries with zero owners.\n",
        "* The 'Kms_Driven' column has a relatively high standard deviation, suggesting a wide range of values.\n",
        "* The 'Year' column represents the year of the car and has a range from 2003 to 2018.\n",
        "* The 'Selling_Price' and 'Present_Price' columns have a wide range of values, with the maximum significantly higher than the mean, indicating potential outliers."
      ],
      "metadata": {
        "id": "SnYPY03V4LPW"
      }
    },
    {
      "cell_type": "code",
      "source": [
        "print(data.columns[data.isna().any()])\n",
        "data=data.dropna()"
      ],
      "metadata": {
        "colab": {
          "base_uri": "https://localhost:8080/"
        },
        "id": "vej9WSRP4f7k",
        "outputId": "b04b980c-3de6-430a-9088-7df6b47f9068"
      },
      "execution_count": 69,
      "outputs": [
        {
          "output_type": "stream",
          "name": "stdout",
          "text": [
            "Index([], dtype='object')\n"
          ]
        }
      ]
    },
    {
      "cell_type": "markdown",
      "source": [
        "##Data Preprocessing"
      ],
      "metadata": {
        "id": "RZVgYT-7EixA"
      }
    },
    {
      "cell_type": "code",
      "source": [
        "data['Selling_Price'] = data['Selling_Price'].map(lambda x: re.sub(r\"[^0-9.-]\", \"\", str(x)))\n",
        "data['Kms_Driven'] = data['Kms_Driven'].map(lambda x: re.sub(r\"[^0-9.-]\", \"\", str(x)))\n",
        "data['Present_Price'] = data['Present_Price'].map(lambda x: re.sub(r\"[^0-9.-]\", \"\", str(x)))\n",
        "\n",
        "data['Selling_Price'] = pd.to_numeric(data['Selling_Price'])\n",
        "data['Kms_Driven'] = pd.to_numeric(data['Kms_Driven'])\n",
        "data['Present_Price'] = pd.to_numeric(data['Present_Price'])\n",
        "data=data.dropna()\n",
        "\n",
        "data_pd=data.copy()\n",
        "\n",
        "data = h2o.H2OFrame(data)"
      ],
      "metadata": {
        "colab": {
          "base_uri": "https://localhost:8080/"
        },
        "id": "XC3VqvqfEfYp",
        "outputId": "1bc1b172-6ff3-45a6-8805-15bdc1c994c3"
      },
      "execution_count": 70,
      "outputs": [
        {
          "output_type": "stream",
          "name": "stdout",
          "text": [
            "Parse progress: |████████████████████████████████████████████████████████████████| (done) 100%\n"
          ]
        }
      ]
    },
    {
      "cell_type": "code",
      "source": [
        "import seaborn as sns\n",
        "f,ax = plt.subplots(figsize=(5, 5))\n",
        "mask = np.zeros_like(data_pd.corr().corr())\n",
        "mask[np.triu_indices_from(mask)] = True\n",
        "sns.heatmap(data_pd.corr(), annot=True, linewidths=0.4,linecolor=\"white\", fmt= '.1f',ax=ax,cmap=\"Blues\",mask=mask)\n",
        "plt.show()"
      ],
      "metadata": {
        "colab": {
          "base_uri": "https://localhost:8080/",
          "height": 612
        },
        "id": "6BXyJvJpFVzr",
        "outputId": "31f0ed31-6ef6-4a25-d043-0e971d12faa3"
      },
      "execution_count": 71,
      "outputs": [
        {
          "output_type": "stream",
          "name": "stderr",
          "text": [
            "<ipython-input-71-6731a5e310c3>:3: FutureWarning: The default value of numeric_only in DataFrame.corr is deprecated. In a future version, it will default to False. Select only valid columns or specify the value of numeric_only to silence this warning.\n",
            "  mask = np.zeros_like(data_pd.corr().corr())\n",
            "<ipython-input-71-6731a5e310c3>:5: FutureWarning: The default value of numeric_only in DataFrame.corr is deprecated. In a future version, it will default to False. Select only valid columns or specify the value of numeric_only to silence this warning.\n",
            "  sns.heatmap(data_pd.corr(), annot=True, linewidths=0.4,linecolor=\"white\", fmt= '.1f',ax=ax,cmap=\"Blues\",mask=mask)\n"
          ]
        },
        {
          "output_type": "display_data",
          "data": {
            "text/plain": [
              "<Figure size 500x500 with 2 Axes>"
            ],
            "image/png": "[encoded data removed]"
          },
          "metadata": {}
        }
      ]
    },
    {
      "cell_type": "markdown",
      "source": [
        "Looking at the above correlation Heatmap, the inferences are:\n",
        "\n",
        "* High Correlation: There is a strong positive correlation of 0.9 between 'Present_Price' and 'Selling_Price', suggesting that as the present price of a car increases, its selling price tends to increase as well.\n",
        "\n",
        "* Moderate Correlation: 'Year' has a moderate positive correlation of 0.2 with 'Selling_Price', indicating that newer models might be associated with higher selling prices.\n",
        "\n",
        "* Low Negative Correlation: 'Kms_Driven' has a low negative correlation of -0.5 with 'Year', which could mean that older cars tend to have higher mileage.\n",
        "\n",
        "* Weak Correlations: The 'Owner' variable shows weak correlations with all other variables, suggesting that the number of owners does not strongly influence these variables."
      ],
      "metadata": {
        "id": "ezvjwLmF5YlG"
      }
    },
    {
      "cell_type": "code",
      "source": [
        "from statsmodels.stats.outliers_influence import variance_inflation_factor\n",
        "df_vif = data_pd.drop(columns={\"Car_Name\",\"Fuel_Type\",\"Seller_Type\",\"Transmission\"})\n",
        "# df_vif.drop(columns={'song_popularity','song_name'}, inplace = True)\n",
        "\n",
        "X = df_vif.loc[:,df_vif.columns != 'Selling_Price']\n",
        "\n",
        "# VIF dataframe\n",
        "vif_data = pd.DataFrame()\n",
        "vif_data[\"feature\"] =X.columns\n",
        "\n",
        "# calculating VIF for each feature\n",
        "vif_data[\"VIF\"] = [variance_inflation_factor(X.values, i)\n",
        "                          for i in range(len(X.columns))]\n",
        "\n",
        "print(vif_data)"
      ],
      "metadata": {
        "colab": {
          "base_uri": "https://localhost:8080/"
        },
        "id": "U7Ps1oryFrEZ",
        "outputId": "5f697d77-b68f-493f-d7f2-aafcd622c96c"
      },
      "execution_count": 72,
      "outputs": [
        {
          "output_type": "stream",
          "name": "stdout",
          "text": [
            "         feature       VIF\n",
            "0           Year  2.408884\n",
            "1  Present_Price  1.858906\n",
            "2     Kms_Driven  2.001950\n",
            "3          Owner  1.038791\n"
          ]
        }
      ]
    },
    {
      "cell_type": "markdown",
      "source": [
        "* Based on these VIF values, none of the features display high multicollinearity, and all are below common thresholds for concern.\n",
        "* The data suggests that the model should not suffer from severe multicollinearity issues that could distort the regression coefficients or their interpretability."
      ],
      "metadata": {
        "id": "vzmxIIG1GXz_"
      }
    },
    {
      "cell_type": "code",
      "source": [
        "from statsmodels.stats.outliers_influence import variance_inflation_factor\n",
        "df_vif = data_pd.drop(columns={\"Car_Name\",\"Fuel_Type\",\"Seller_Type\"})\n",
        "# df_vif.drop(columns={'song_popularity','song_name'}, inplace = True)\n",
        "\n",
        "X = df_vif.loc[:,df_vif.columns != 'Transmission']\n",
        "\n",
        "# VIF dataframe\n",
        "vif_data = pd.DataFrame()\n",
        "vif_data[\"feature\"] =X.columns\n",
        "\n",
        "# calculating VIF for each feature\n",
        "vif_data[\"VIF\"] = [variance_inflation_factor(X.values, i)\n",
        "                          for i in range(len(X.columns))]\n",
        "\n",
        "print(vif_data)\n",
        "\n",
        "from statsmodels.stats.outliers_influence import variance_inflation_factor\n",
        "df_vif = data_pd.drop(columns={\"Car_Name\",\"Transmission\",\"Seller_Type\"})\n",
        "# df_vif.drop(columns={'song_popularity','song_name'}, inplace = True)\n",
        "\n",
        "X = df_vif.loc[:,df_vif.columns != 'Fuel_Type']\n",
        "\n",
        "# VIF dataframe\n",
        "vif_data = pd.DataFrame()\n",
        "vif_data[\"feature\"] =X.columns\n",
        "\n",
        "# calculating VIF for each feature\n",
        "vif_data[\"VIF\"] = [variance_inflation_factor(X.values, i)\n",
        "                          for i in range(len(X.columns))]\n",
        "print(vif_data)"
      ],
      "metadata": {
        "colab": {
          "base_uri": "https://localhost:8080/"
        },
        "id": "_L_dr1iKG1u0",
        "outputId": "5555846a-ada3-4c17-add6-18b9a3bfa13f"
      },
      "execution_count": 73,
      "outputs": [
        {
          "output_type": "stream",
          "name": "stdout",
          "text": [
            "         feature       VIF\n",
            "0           Year  2.780556\n",
            "1  Selling_Price  9.355028\n",
            "2  Present_Price  9.339093\n",
            "3     Kms_Driven  2.215973\n",
            "4          Owner  1.074269\n",
            "         feature       VIF\n",
            "0           Year  2.780556\n",
            "1  Selling_Price  9.355028\n",
            "2  Present_Price  9.339093\n",
            "3     Kms_Driven  2.215973\n",
            "4          Owner  1.074269\n"
          ]
        }
      ]
    },
    {
      "cell_type": "markdown",
      "source": [
        "* Looking at the above Variance Inflation Factor, wrt Transmission, Fuel Type the inferences are:\n",
        "Year is  multi-colinear .\n",
        "* Sellin_Price and Kilometers_Driven are not multi-collinear."
      ],
      "metadata": {
        "id": "JGUIynY_IZb1"
      }
    },
    {
      "cell_type": "markdown",
      "source": [
        "##Regression using AutoML h2o\n",
        "Target variable as `Selling_Price`\n"
      ],
      "metadata": {
        "id": "WYQZWqjfIzHs"
      }
    },
    {
      "cell_type": "code",
      "source": [
        "y = \"Selling_Price\"\n",
        "x = data.columns"
      ],
      "metadata": {
        "id": "ngtdLVGKI2_Z"
      },
      "execution_count": 74,
      "outputs": []
    },
    {
      "cell_type": "code",
      "source": [
        "import statsmodels.formula.api as smf\n",
        "var = smf.ols(formula=\"Selling_Price ~ Car_Name + Year + Present_Price + Kms_Driven + Fuel_Type +  Seller_Type +  Transmission + Owner \", data=data_pd).fit()\n",
        "var.summary()"
      ],
      "metadata": {
        "colab": {
          "base_uri": "https://localhost:8080/",
          "height": 1000
        },
        "id": "WV_Q_SygJAIe",
        "outputId": "97ad1153-1e5e-497c-ff02-cd2f77961df2"
      },
      "execution_count": 75,
      "outputs": [
        {
          "output_type": "execute_result",
          "data": {
            "text/plain": [
              "<class 'statsmodels.iolib.summary.Summary'>\n",
              "\"\"\"\n",
              "                            OLS Regression Results                            \n",
              "==============================================================================\n",
              "Dep. Variable:          Selling_Price   R-squared:                       0.944\n",
              "Model:                            OLS   Adj. R-squared:                  0.914\n",
              "Method:                 Least Squares   F-statistic:                     31.51\n",
              "Date:                Tue, 20 Feb 2024   Prob (F-statistic):           9.40e-84\n",
              "Time:                        04:30:09   Log-Likelihood:                -481.25\n",
              "No. Observations:                 301   AIC:                             1174.\n",
              "Df Residuals:                     195   BIC:                             1567.\n",
              "Df Model:                         105                                         \n",
              "Covariance Type:            nonrobust                                         \n",
              "=========================================================================================================\n",
              "                                            coef    std err          t      P>|t|      [0.025      0.975]\n",
              "---------------------------------------------------------------------------------------------------------\n",
              "Intercept                             -1204.9184    114.494    -10.524      0.000   -1430.724    -979.112\n",
              "Car_Name[T.Activa 3g]                    -4.1987      2.078     -2.021      0.045      -8.297      -0.100\n",
              "Car_Name[T.Activa 4g]                    -8.2505      2.284     -3.612      0.000     -12.756      -3.745\n",
              "Car_Name[T.Bajaj  ct 100]                -6.6749      2.198     -3.036      0.003     -11.011      -2.339\n",
              "Car_Name[T.Bajaj Avenger 150]            -7.1128      2.208     -3.221      0.001     -11.468      -2.758\n",
              "Car_Name[T.Bajaj Avenger 150 street]     -7.2029      2.208     -3.262      0.001     -11.557      -2.849\n",
              "Car_Name[T.Bajaj Avenger 220]            -7.5845      1.855     -4.090      0.000     -11.242      -3.927\n",
              "Car_Name[T.Bajaj Avenger 220 dtsi]       -5.2521      1.891     -2.778      0.006      -8.981      -1.523\n",
              "Car_Name[T.Bajaj Avenger Street 220]     -4.4151      2.150     -2.053      0.041      -8.656      -0.175\n",
              "Car_Name[T.Bajaj Discover 100]           -5.5338      2.173     -2.547      0.012      -9.819      -1.249\n",
              "Car_Name[T.Bajaj Discover 125]           -5.0151      2.041     -2.457      0.015      -9.041      -0.989\n",
              "Car_Name[T.Bajaj Dominar 400]            -7.5035      2.216     -3.386      0.001     -11.874      -3.133\n",
              "Car_Name[T.Bajaj Pulsar  NS 200]         -6.0873      2.179     -2.793      0.006     -10.385      -1.789\n",
              "Car_Name[T.Bajaj Pulsar 135 LS]          -6.1369      2.183     -2.811      0.005     -10.443      -1.831\n",
              "Car_Name[T.Bajaj Pulsar 150]             -3.3633      1.715     -1.961      0.051      -6.746       0.020\n",
              "Car_Name[T.Bajaj Pulsar 220 F]           -5.4984      1.895     -2.901      0.004      -9.236      -1.760\n",
              "Car_Name[T.Bajaj Pulsar NS 200]          -5.2058      1.788     -2.912      0.004      -8.732      -1.680\n",
              "Car_Name[T.Bajaj Pulsar RS200]           -7.0849      2.204     -3.214      0.002     -11.432      -2.738\n",
              "Car_Name[T.Hero  CBZ Xtreme]             -2.6474      2.127     -1.245      0.215      -6.842       1.548\n",
              "Car_Name[T.Hero  Ignitor Disc]           -5.9659      2.313     -2.580      0.011     -10.527      -1.405\n",
              "Car_Name[T.Hero Extreme]                 -5.7131      1.905     -2.999      0.003      -9.470      -1.956\n",
              "Car_Name[T.Hero Glamour]                 -5.6254      2.172     -2.590      0.010      -9.909      -1.341\n",
              "Car_Name[T.Hero Honda CBZ extreme]       -4.1558      2.148     -1.935      0.054      -8.392       0.080\n",
              "Car_Name[T.Hero Honda Passion Pro]       -4.7459      2.160     -2.197      0.029      -9.005      -0.486\n",
              "Car_Name[T.Hero Hunk]                    -2.3012      2.259     -1.019      0.310      -6.757       2.154\n",
              "Car_Name[T.Hero Passion Pro]             -7.0071      1.937     -3.618      0.000     -10.827      -3.187\n",
              "Car_Name[T.Hero Passion X pro]           -7.1076      2.211     -3.215      0.002     -11.468      -2.748\n",
              "Car_Name[T.Hero Splender Plus]           -7.1796      2.214     -3.243      0.001     -11.546      -2.813\n",
              "Car_Name[T.Hero Splender iSmart]         -6.9546      1.936     -3.592      0.000     -10.773      -3.136\n",
              "Car_Name[T.Hero Super Splendor]          -0.6951      2.119     -0.328      0.743      -4.875       3.484\n",
              "Car_Name[T.Honda Activa 125]             -7.6294      2.268     -3.364      0.001     -12.102      -3.157\n",
              "Car_Name[T.Honda Activa 4G]              -8.1724      2.028     -4.030      0.000     -12.172      -4.173\n",
              "Car_Name[T.Honda CB Hornet 160R]         -7.5752      1.855     -4.084      0.000     -11.234      -3.917\n",
              "Car_Name[T.Honda CB Shine]               -3.7592      1.866     -2.015      0.045      -7.439      -0.080\n",
              "Car_Name[T.Honda CB Trigger]             -5.5756      2.172     -2.567      0.011      -9.859      -1.292\n",
              "Car_Name[T.Honda CB Unicorn]             -6.6897      2.195     -3.048      0.003     -11.018      -2.361\n",
              "Car_Name[T.Honda CB twister]             -4.6671      1.882     -2.480      0.014      -8.379      -0.955\n",
              "Car_Name[T.Honda CBR 150]                -5.8705      1.900     -3.090      0.002      -9.618      -2.123\n",
              "Car_Name[T.Honda Dream Yuga ]            -7.8263      2.226     -3.517      0.001     -12.216      -3.437\n",
              "Car_Name[T.Honda Karizma]                -3.8430      1.877     -2.048      0.042      -7.544      -0.142\n",
              "Car_Name[T.Hyosung GT250R]               -7.0713      2.307     -3.065      0.002     -11.622      -2.521\n",
              "Car_Name[T.KTM 390 Duke ]                -6.4359      2.172     -2.963      0.003     -10.720      -2.152\n",
              "Car_Name[T.KTM RC200]                    -7.3145      1.940     -3.770      0.000     -11.141      -3.488\n",
              "Car_Name[T.KTM RC390]                    -6.7520      2.182     -3.094      0.002     -11.055      -2.449\n",
              "Car_Name[T.Mahindra Mojo XT300]          -6.9308      2.203     -3.146      0.002     -11.276      -2.586\n",
              "Car_Name[T.Royal Enfield Bullet 350]     -7.0314      2.205     -3.189      0.002     -11.380      -2.683\n",
              "Car_Name[T.Royal Enfield Classic 350]    -6.4350      1.701     -3.784      0.000      -9.789      -3.081\n",
              "Car_Name[T.Royal Enfield Classic 500]    -4.0942      1.866     -2.194      0.029      -7.774      -0.415\n",
              "Car_Name[T.Royal Enfield Thunder 350]    -5.8790      1.755     -3.350      0.001      -9.340      -2.418\n",
              "Car_Name[T.Royal Enfield Thunder 500]    -6.3953      1.813     -3.527      0.001      -9.971      -2.819\n",
              "Car_Name[T.Suzuki Access 125]            -3.0273      2.203     -1.374      0.171      -7.373       1.318\n",
              "Car_Name[T.TVS Apache RTR 160]           -6.2303      1.816     -3.430      0.001      -9.813      -2.648\n",
              "Car_Name[T.TVS Apache RTR 180]           -5.2640      1.893     -2.780      0.006      -8.998      -1.530\n",
              "Car_Name[T.TVS Jupyter]                  -6.4211      2.242     -2.864      0.005     -10.843      -1.999\n",
              "Car_Name[T.TVS Sport ]                   -7.7852      2.226     -3.498      0.001     -12.175      -3.395\n",
              "Car_Name[T.TVS Wego]                     -4.1024      2.205     -1.861      0.064      -8.450       0.246\n",
              "Car_Name[T.UM Renegade Mojave]           -7.3798      2.214     -3.333      0.001     -11.746      -3.013\n",
              "Car_Name[T.Yamaha FZ  v 2.0]             -6.8932      1.933     -3.567      0.000     -10.705      -3.081\n",
              "Car_Name[T.Yamaha FZ 16]                 -6.4725      2.194     -2.950      0.004     -10.799      -2.146\n",
              "Car_Name[T.Yamaha FZ S ]                 -5.0822      2.164     -2.349      0.020      -9.349      -0.815\n",
              "Car_Name[T.Yamaha FZ S V 2.0]            -6.9824      1.838     -3.799      0.000     -10.607      -3.358\n",
              "Car_Name[T.Yamaha Fazer ]                -6.2020      2.182     -2.842      0.005     -10.506      -1.898\n",
              "Car_Name[T.alto 800]                     -8.3904      2.390     -3.511      0.001     -13.104      -3.677\n",
              "Car_Name[T.alto k10]                     -6.8457      1.943     -3.524      0.001     -10.677      -3.014\n",
              "Car_Name[T.amaze]                        -7.2097      1.900     -3.795      0.000     -10.957      -3.462\n",
              "Car_Name[T.baleno]                       -7.4839      2.379     -3.145      0.002     -12.177      -2.791\n",
              "Car_Name[T.brio]                         -6.5151      1.881     -3.464      0.001     -10.225      -2.805\n",
              "Car_Name[T.camry]                       -13.1353      3.307     -3.972      0.000     -19.657      -6.614\n",
              "Car_Name[T.ciaz]                         -6.6850      1.882     -3.553      0.000     -10.396      -2.974\n",
              "Car_Name[T.city]                         -6.7071      1.846     -3.633      0.000     -10.348      -3.066\n",
              "Car_Name[T.corolla]                      -6.7008      2.344     -2.858      0.005     -11.324      -2.077\n",
              "Car_Name[T.corolla altis]                -9.0823      1.932     -4.701      0.000     -12.893      -5.272\n",
              "Car_Name[T.creta]                        -4.6891      2.043     -2.295      0.023      -8.718      -0.660\n",
              "Car_Name[T.dzire]                        -6.7909      1.941     -3.499      0.001     -10.619      -2.963\n",
              "Car_Name[T.elantra]                      -5.2924      2.120     -2.496      0.013      -9.474      -1.110\n",
              "Car_Name[T.eon]                          -7.7286      1.936     -3.991      0.000     -11.547      -3.910\n",
              "Car_Name[T.ertiga]                       -7.1352      1.916     -3.723      0.000     -10.915      -3.356\n",
              "Car_Name[T.etios cross]                  -7.7131      2.008     -3.841      0.000     -11.674      -3.752\n",
              "Car_Name[T.etios g]                      -7.1368      2.031     -3.514      0.001     -11.142      -3.132\n",
              "Car_Name[T.etios gd]                     -8.2477      2.347     -3.514      0.001     -12.877      -3.618\n",
              "Car_Name[T.etios liva]                   -6.8468      1.941     -3.527      0.001     -10.676      -3.018\n",
              "Car_Name[T.fortuner]                     -6.6251      2.249     -2.946      0.004     -11.060      -2.190\n",
              "Car_Name[T.grand i10]                    -6.5285      1.900     -3.435      0.001     -10.276      -2.781\n",
              "Car_Name[T.i10]                          -5.3192      1.911     -2.783      0.006      -9.088      -1.550\n",
              "Car_Name[T.i20]                          -6.5627      1.866     -3.518      0.001     -10.242      -2.883\n",
              "Car_Name[T.ignis]                        -7.5597      2.377     -3.180      0.002     -12.248      -2.871\n",
              "Car_Name[T.innova]                       -4.1072      1.902     -2.159      0.032      -7.859      -0.355\n",
              "Car_Name[T.jazz]                         -6.9698      1.907     -3.655      0.000     -10.731      -3.209\n",
              "Car_Name[T.land cruiser]                -23.8385      5.915     -4.030      0.000     -35.504     -12.173\n",
              "Car_Name[T.omni]                         -6.2374      2.343     -2.662      0.008     -10.859      -1.616\n",
              "Car_Name[T.ritz]                         -6.6291      1.942     -3.414      0.001     -10.458      -2.800\n",
              "Car_Name[T.s cross]                      -6.9676      2.347     -2.969      0.003     -11.596      -2.339\n",
              "Car_Name[T.swift]                        -6.2566      1.840     -3.401      0.001      -9.885      -2.628\n",
              "Car_Name[T.sx4]                          -5.7083      1.876     -3.042      0.003      -9.409      -2.008\n",
              "Car_Name[T.verna]                        -6.5521      1.843     -3.555      0.000     -10.187      -2.917\n",
              "Car_Name[T.vitara brezza]                -6.8715      2.377     -2.891      0.004     -11.559      -2.184\n",
              "Car_Name[T.wagon r]                      -5.1480      1.952     -2.637      0.009      -8.998      -1.298\n",
              "Car_Name[T.xcent]                        -7.2875      2.041     -3.571      0.000     -11.313      -3.262\n",
              "Fuel_Type[T.Diesel]                       2.4244      1.220      1.987      0.048       0.018       4.830\n",
              "Fuel_Type[T.Petrol]                       1.7485      1.199      1.459      0.146      -0.616       4.113\n",
              "Seller_Type[T.Individual]                -1.1344      0.948     -1.196      0.233      -3.005       0.736\n",
              "Transmission[T.Manual]                   -0.3280      0.436     -0.753      0.452      -1.187       0.531\n",
              "Year                                      0.6012      0.057     10.549      0.000       0.489       0.714\n",
              "Present_Price                             0.5784      0.063      9.127      0.000       0.453       0.703\n",
              "Kms_Driven                            -4.608e-06   3.65e-06     -1.264      0.208   -1.18e-05    2.58e-06\n",
              "Owner                                     0.2718      0.763      0.356      0.722      -1.233       1.776\n",
              "==============================================================================\n",
              "Omnibus:                      157.144   Durbin-Watson:                   2.078\n",
              "Prob(Omnibus):                  0.000   Jarque-Bera (JB):             2268.639\n",
              "Skew:                           1.761   Prob(JB):                         0.00\n",
              "Kurtosis:                      15.980   Cond. No.                     7.17e+07\n",
              "==============================================================================\n",
              "\n",
              "Notes:\n",
              "[1] Standard Errors assume that the covariance matrix of the errors is correctly specified.\n",
              "[2] The condition number is large, 7.17e+07. This might indicate that there are\n",
              "strong multicollinearity or other numerical problems.\n",
              "\"\"\""
            ],
            "text/html": [
              "<table class=\"simpletable\">\n",
              "<caption>OLS Regression Results</caption>\n",
              "<tr>\n",
              "  <th>Dep. Variable:</th>      <td>Selling_Price</td>  <th>  R-squared:         </th> <td>   0.944</td>\n",
              "</tr>\n",
              "<tr>\n",
              "  <th>Model:</th>                   <td>OLS</td>       <th>  Adj. R-squared:    </th> <td>   0.914</td>\n",
              "</tr>\n",
              "<tr>\n",
              "  <th>Method:</th>             <td>Least Squares</td>  <th>  F-statistic:       </th> <td>   31.51</td>\n",
              "</tr>\n",
              "<tr>\n",
              "  <th>Date:</th>             <td>Tue, 20 Feb 2024</td> <th>  Prob (F-statistic):</th> <td>9.40e-84</td>\n",
              "</tr>\n",
              "<tr>\n",
              "  <th>Time:</th>                 <td>04:30:09</td>     <th>  Log-Likelihood:    </th> <td> -481.25</td>\n",
              "</tr>\n",
              "<tr>\n",
              "  <th>No. Observations:</th>      <td>   301</td>      <th>  AIC:               </th> <td>   1174.</td>\n",
              "</tr>\n",
              "<tr>\n",
              "  <th>Df Residuals:</th>          <td>   195</td>      <th>  BIC:               </th> <td>   1567.</td>\n",
              "</tr>\n",
              "<tr>\n",
              "  <th>Df Model:</th>              <td>   105</td>      <th>                     </th>     <td> </td>   \n",
              "</tr>\n",
              "<tr>\n",
              "  <th>Covariance Type:</th>      <td>nonrobust</td>    <th>                     </th>     <td> </td>   \n",
              "</tr>\n",
              "</table>\n",
              "<table class=\"simpletable\">\n",
              "<tr>\n",
              "                    <td></td>                       <th>coef</th>     <th>std err</th>      <th>t</th>      <th>P>|t|</th>  <th>[0.025</th>    <th>0.975]</th>  \n",
              "</tr>\n",
              "<tr>\n",
              "  <th>Intercept</th>                             <td>-1204.9184</td> <td>  114.494</td> <td>  -10.524</td> <td> 0.000</td> <td>-1430.724</td> <td> -979.112</td>\n",
              "</tr>\n",
              "<tr>\n",
              "  <th>Car_Name[T.Activa 3g]</th>                 <td>   -4.1987</td> <td>    2.078</td> <td>   -2.021</td> <td> 0.045</td> <td>   -8.297</td> <td>   -0.100</td>\n",
              "</tr>\n",
              "<tr>\n",
              "  <th>Car_Name[T.Activa 4g]</th>                 <td>   -8.2505</td> <td>    2.284</td> <td>   -3.612</td> <td> 0.000</td> <td>  -12.756</td> <td>   -3.745</td>\n",
              "</tr>\n",
              "<tr>\n",
              "  <th>Car_Name[T.Bajaj  ct 100]</th>             <td>   -6.6749</td> <td>    2.198</td> <td>   -3.036</td> <td> 0.003</td> <td>  -11.011</td> <td>   -2.339</td>\n",
              "</tr>\n",
              "<tr>\n",
              "  <th>Car_Name[T.Bajaj Avenger 150]</th>         <td>   -7.1128</td> <td>    2.208</td> <td>   -3.221</td> <td> 0.001</td> <td>  -11.468</td> <td>   -2.758</td>\n",
              "</tr>\n",
              "<tr>\n",
              "  <th>Car_Name[T.Bajaj Avenger 150 street]</th>  <td>   -7.2029</td> <td>    2.208</td> <td>   -3.262</td> <td> 0.001</td> <td>  -11.557</td> <td>   -2.849</td>\n",
              "</tr>\n",
              "<tr>\n",
              "  <th>Car_Name[T.Bajaj Avenger 220]</th>         <td>   -7.5845</td> <td>    1.855</td> <td>   -4.090</td> <td> 0.000</td> <td>  -11.242</td> <td>   -3.927</td>\n",
              "</tr>\n",
              "<tr>\n",
              "  <th>Car_Name[T.Bajaj Avenger 220 dtsi]</th>    <td>   -5.2521</td> <td>    1.891</td> <td>   -2.778</td> <td> 0.006</td> <td>   -8.981</td> <td>   -1.523</td>\n",
              "</tr>\n",
              "<tr>\n",
              "  <th>Car_Name[T.Bajaj Avenger Street 220]</th>  <td>   -4.4151</td> <td>    2.150</td> <td>   -2.053</td> <td> 0.041</td> <td>   -8.656</td> <td>   -0.175</td>\n",
              "</tr>\n",
              "<tr>\n",
              "  <th>Car_Name[T.Bajaj Discover 100]</th>        <td>   -5.5338</td> <td>    2.173</td> <td>   -2.547</td> <td> 0.012</td> <td>   -9.819</td> <td>   -1.249</td>\n",
              "</tr>\n",
              "<tr>\n",
              "  <th>Car_Name[T.Bajaj Discover 125]</th>        <td>   -5.0151</td> <td>    2.041</td> <td>   -2.457</td> <td> 0.015</td> <td>   -9.041</td> <td>   -0.989</td>\n",
              "</tr>\n",
              "<tr>\n",
              "  <th>Car_Name[T.Bajaj Dominar 400]</th>         <td>   -7.5035</td> <td>    2.216</td> <td>   -3.386</td> <td> 0.001</td> <td>  -11.874</td> <td>   -3.133</td>\n",
              "</tr>\n",
              "<tr>\n",
              "  <th>Car_Name[T.Bajaj Pulsar  NS 200]</th>      <td>   -6.0873</td> <td>    2.179</td> <td>   -2.793</td> <td> 0.006</td> <td>  -10.385</td> <td>   -1.789</td>\n",
              "</tr>\n",
              "<tr>\n",
              "  <th>Car_Name[T.Bajaj Pulsar 135 LS]</th>       <td>   -6.1369</td> <td>    2.183</td> <td>   -2.811</td> <td> 0.005</td> <td>  -10.443</td> <td>   -1.831</td>\n",
              "</tr>\n",
              "<tr>\n",
              "  <th>Car_Name[T.Bajaj Pulsar 150]</th>          <td>   -3.3633</td> <td>    1.715</td> <td>   -1.961</td> <td> 0.051</td> <td>   -6.746</td> <td>    0.020</td>\n",
              "</tr>\n",
              "<tr>\n",
              "  <th>Car_Name[T.Bajaj Pulsar 220 F]</th>        <td>   -5.4984</td> <td>    1.895</td> <td>   -2.901</td> <td> 0.004</td> <td>   -9.236</td> <td>   -1.760</td>\n",
              "</tr>\n",
              "<tr>\n",
              "  <th>Car_Name[T.Bajaj Pulsar NS 200]</th>       <td>   -5.2058</td> <td>    1.788</td> <td>   -2.912</td> <td> 0.004</td> <td>   -8.732</td> <td>   -1.680</td>\n",
              "</tr>\n",
              "<tr>\n",
              "  <th>Car_Name[T.Bajaj Pulsar RS200]</th>        <td>   -7.0849</td> <td>    2.204</td> <td>   -3.214</td> <td> 0.002</td> <td>  -11.432</td> <td>   -2.738</td>\n",
              "</tr>\n",
              "<tr>\n",
              "  <th>Car_Name[T.Hero  CBZ Xtreme]</th>          <td>   -2.6474</td> <td>    2.127</td> <td>   -1.245</td> <td> 0.215</td> <td>   -6.842</td> <td>    1.548</td>\n",
              "</tr>\n",
              "<tr>\n",
              "  <th>Car_Name[T.Hero  Ignitor Disc]</th>        <td>   -5.9659</td> <td>    2.313</td> <td>   -2.580</td> <td> 0.011</td> <td>  -10.527</td> <td>   -1.405</td>\n",
              "</tr>\n",
              "<tr>\n",
              "  <th>Car_Name[T.Hero Extreme]</th>              <td>   -5.7131</td> <td>    1.905</td> <td>   -2.999</td> <td> 0.003</td> <td>   -9.470</td> <td>   -1.956</td>\n",
              "</tr>\n",
              "<tr>\n",
              "  <th>Car_Name[T.Hero Glamour]</th>              <td>   -5.6254</td> <td>    2.172</td> <td>   -2.590</td> <td> 0.010</td> <td>   -9.909</td> <td>   -1.341</td>\n",
              "</tr>\n",
              "<tr>\n",
              "  <th>Car_Name[T.Hero Honda CBZ extreme]</th>    <td>   -4.1558</td> <td>    2.148</td> <td>   -1.935</td> <td> 0.054</td> <td>   -8.392</td> <td>    0.080</td>\n",
              "</tr>\n",
              "<tr>\n",
              "  <th>Car_Name[T.Hero Honda Passion Pro]</th>    <td>   -4.7459</td> <td>    2.160</td> <td>   -2.197</td> <td> 0.029</td> <td>   -9.005</td> <td>   -0.486</td>\n",
              "</tr>\n",
              "<tr>\n",
              "  <th>Car_Name[T.Hero Hunk]</th>                 <td>   -2.3012</td> <td>    2.259</td> <td>   -1.019</td> <td> 0.310</td> <td>   -6.757</td> <td>    2.154</td>\n",
              "</tr>\n",
              "<tr>\n",
              "  <th>Car_Name[T.Hero Passion Pro]</th>          <td>   -7.0071</td> <td>    1.937</td> <td>   -3.618</td> <td> 0.000</td> <td>  -10.827</td> <td>   -3.187</td>\n",
              "</tr>\n",
              "<tr>\n",
              "  <th>Car_Name[T.Hero Passion X pro]</th>        <td>   -7.1076</td> <td>    2.211</td> <td>   -3.215</td> <td> 0.002</td> <td>  -11.468</td> <td>   -2.748</td>\n",
              "</tr>\n",
              "<tr>\n",
              "  <th>Car_Name[T.Hero Splender Plus]</th>        <td>   -7.1796</td> <td>    2.214</td> <td>   -3.243</td> <td> 0.001</td> <td>  -11.546</td> <td>   -2.813</td>\n",
              "</tr>\n",
              "<tr>\n",
              "  <th>Car_Name[T.Hero Splender iSmart]</th>      <td>   -6.9546</td> <td>    1.936</td> <td>   -3.592</td> <td> 0.000</td> <td>  -10.773</td> <td>   -3.136</td>\n",
              "</tr>\n",
              "<tr>\n",
              "  <th>Car_Name[T.Hero Super Splendor]</th>       <td>   -0.6951</td> <td>    2.119</td> <td>   -0.328</td> <td> 0.743</td> <td>   -4.875</td> <td>    3.484</td>\n",
              "</tr>\n",
              "<tr>\n",
              "  <th>Car_Name[T.Honda Activa 125]</th>          <td>   -7.6294</td> <td>    2.268</td> <td>   -3.364</td> <td> 0.001</td> <td>  -12.102</td> <td>   -3.157</td>\n",
              "</tr>\n",
              "<tr>\n",
              "  <th>Car_Name[T.Honda Activa 4G]</th>           <td>   -8.1724</td> <td>    2.028</td> <td>   -4.030</td> <td> 0.000</td> <td>  -12.172</td> <td>   -4.173</td>\n",
              "</tr>\n",
              "<tr>\n",
              "  <th>Car_Name[T.Honda CB Hornet 160R]</th>      <td>   -7.5752</td> <td>    1.855</td> <td>   -4.084</td> <td> 0.000</td> <td>  -11.234</td> <td>   -3.917</td>\n",
              "</tr>\n",
              "<tr>\n",
              "  <th>Car_Name[T.Honda CB Shine]</th>            <td>   -3.7592</td> <td>    1.866</td> <td>   -2.015</td> <td> 0.045</td> <td>   -7.439</td> <td>   -0.080</td>\n",
              "</tr>\n",
              "<tr>\n",
              "  <th>Car_Name[T.Honda CB Trigger]</th>          <td>   -5.5756</td> <td>    2.172</td> <td>   -2.567</td> <td> 0.011</td> <td>   -9.859</td> <td>   -1.292</td>\n",
              "</tr>\n",
              "<tr>\n",
              "  <th>Car_Name[T.Honda CB Unicorn]</th>          <td>   -6.6897</td> <td>    2.195</td> <td>   -3.048</td> <td> 0.003</td> <td>  -11.018</td> <td>   -2.361</td>\n",
              "</tr>\n",
              "<tr>\n",
              "  <th>Car_Name[T.Honda CB twister]</th>          <td>   -4.6671</td> <td>    1.882</td> <td>   -2.480</td> <td> 0.014</td> <td>   -8.379</td> <td>   -0.955</td>\n",
              "</tr>\n",
              "<tr>\n",
              "  <th>Car_Name[T.Honda CBR 150]</th>             <td>   -5.8705</td> <td>    1.900</td> <td>   -3.090</td> <td> 0.002</td> <td>   -9.618</td> <td>   -2.123</td>\n",
              "</tr>\n",
              "<tr>\n",
              "  <th>Car_Name[T.Honda Dream Yuga ]</th>         <td>   -7.8263</td> <td>    2.226</td> <td>   -3.517</td> <td> 0.001</td> <td>  -12.216</td> <td>   -3.437</td>\n",
              "</tr>\n",
              "<tr>\n",
              "  <th>Car_Name[T.Honda Karizma]</th>             <td>   -3.8430</td> <td>    1.877</td> <td>   -2.048</td> <td> 0.042</td> <td>   -7.544</td> <td>   -0.142</td>\n",
              "</tr>\n",
              "<tr>\n",
              "  <th>Car_Name[T.Hyosung GT250R]</th>            <td>   -7.0713</td> <td>    2.307</td> <td>   -3.065</td> <td> 0.002</td> <td>  -11.622</td> <td>   -2.521</td>\n",
              "</tr>\n",
              "<tr>\n",
              "  <th>Car_Name[T.KTM 390 Duke ]</th>             <td>   -6.4359</td> <td>    2.172</td> <td>   -2.963</td> <td> 0.003</td> <td>  -10.720</td> <td>   -2.152</td>\n",
              "</tr>\n",
              "<tr>\n",
              "  <th>Car_Name[T.KTM RC200]</th>                 <td>   -7.3145</td> <td>    1.940</td> <td>   -3.770</td> <td> 0.000</td> <td>  -11.141</td> <td>   -3.488</td>\n",
              "</tr>\n",
              "<tr>\n",
              "  <th>Car_Name[T.KTM RC390]</th>                 <td>   -6.7520</td> <td>    2.182</td> <td>   -3.094</td> <td> 0.002</td> <td>  -11.055</td> <td>   -2.449</td>\n",
              "</tr>\n",
              "<tr>\n",
              "  <th>Car_Name[T.Mahindra Mojo XT300]</th>       <td>   -6.9308</td> <td>    2.203</td> <td>   -3.146</td> <td> 0.002</td> <td>  -11.276</td> <td>   -2.586</td>\n",
              "</tr>\n",
              "<tr>\n",
              "  <th>Car_Name[T.Royal Enfield Bullet 350]</th>  <td>   -7.0314</td> <td>    2.205</td> <td>   -3.189</td> <td> 0.002</td> <td>  -11.380</td> <td>   -2.683</td>\n",
              "</tr>\n",
              "<tr>\n",
              "  <th>Car_Name[T.Royal Enfield Classic 350]</th> <td>   -6.4350</td> <td>    1.701</td> <td>   -3.784</td> <td> 0.000</td> <td>   -9.789</td> <td>   -3.081</td>\n",
              "</tr>\n",
              "<tr>\n",
              "  <th>Car_Name[T.Royal Enfield Classic 500]</th> <td>   -4.0942</td> <td>    1.866</td> <td>   -2.194</td> <td> 0.029</td> <td>   -7.774</td> <td>   -0.415</td>\n",
              "</tr>\n",
              "<tr>\n",
              "  <th>Car_Name[T.Royal Enfield Thunder 350]</th> <td>   -5.8790</td> <td>    1.755</td> <td>   -3.350</td> <td> 0.001</td> <td>   -9.340</td> <td>   -2.418</td>\n",
              "</tr>\n",
              "<tr>\n",
              "  <th>Car_Name[T.Royal Enfield Thunder 500]</th> <td>   -6.3953</td> <td>    1.813</td> <td>   -3.527</td> <td> 0.001</td> <td>   -9.971</td> <td>   -2.819</td>\n",
              "</tr>\n",
              "<tr>\n",
              "  <th>Car_Name[T.Suzuki Access 125]</th>         <td>   -3.0273</td> <td>    2.203</td> <td>   -1.374</td> <td> 0.171</td> <td>   -7.373</td> <td>    1.318</td>\n",
              "</tr>\n",
              "<tr>\n",
              "  <th>Car_Name[T.TVS Apache RTR 160]</th>        <td>   -6.2303</td> <td>    1.816</td> <td>   -3.430</td> <td> 0.001</td> <td>   -9.813</td> <td>   -2.648</td>\n",
              "</tr>\n",
              "<tr>\n",
              "  <th>Car_Name[T.TVS Apache RTR 180]</th>        <td>   -5.2640</td> <td>    1.893</td> <td>   -2.780</td> <td> 0.006</td> <td>   -8.998</td> <td>   -1.530</td>\n",
              "</tr>\n",
              "<tr>\n",
              "  <th>Car_Name[T.TVS Jupyter]</th>               <td>   -6.4211</td> <td>    2.242</td> <td>   -2.864</td> <td> 0.005</td> <td>  -10.843</td> <td>   -1.999</td>\n",
              "</tr>\n",
              "<tr>\n",
              "  <th>Car_Name[T.TVS Sport ]</th>                <td>   -7.7852</td> <td>    2.226</td> <td>   -3.498</td> <td> 0.001</td> <td>  -12.175</td> <td>   -3.395</td>\n",
              "</tr>\n",
              "<tr>\n",
              "  <th>Car_Name[T.TVS Wego]</th>                  <td>   -4.1024</td> <td>    2.205</td> <td>   -1.861</td> <td> 0.064</td> <td>   -8.450</td> <td>    0.246</td>\n",
              "</tr>\n",
              "<tr>\n",
              "  <th>Car_Name[T.UM Renegade Mojave]</th>        <td>   -7.3798</td> <td>    2.214</td> <td>   -3.333</td> <td> 0.001</td> <td>  -11.746</td> <td>   -3.013</td>\n",
              "</tr>\n",
              "<tr>\n",
              "  <th>Car_Name[T.Yamaha FZ  v 2.0]</th>          <td>   -6.8932</td> <td>    1.933</td> <td>   -3.567</td> <td> 0.000</td> <td>  -10.705</td> <td>   -3.081</td>\n",
              "</tr>\n",
              "<tr>\n",
              "  <th>Car_Name[T.Yamaha FZ 16]</th>              <td>   -6.4725</td> <td>    2.194</td> <td>   -2.950</td> <td> 0.004</td> <td>  -10.799</td> <td>   -2.146</td>\n",
              "</tr>\n",
              "<tr>\n",
              "  <th>Car_Name[T.Yamaha FZ S ]</th>              <td>   -5.0822</td> <td>    2.164</td> <td>   -2.349</td> <td> 0.020</td> <td>   -9.349</td> <td>   -0.815</td>\n",
              "</tr>\n",
              "<tr>\n",
              "  <th>Car_Name[T.Yamaha FZ S V 2.0]</th>         <td>   -6.9824</td> <td>    1.838</td> <td>   -3.799</td> <td> 0.000</td> <td>  -10.607</td> <td>   -3.358</td>\n",
              "</tr>\n",
              "<tr>\n",
              "  <th>Car_Name[T.Yamaha Fazer ]</th>             <td>   -6.2020</td> <td>    2.182</td> <td>   -2.842</td> <td> 0.005</td> <td>  -10.506</td> <td>   -1.898</td>\n",
              "</tr>\n",
              "<tr>\n",
              "  <th>Car_Name[T.alto 800]</th>                  <td>   -8.3904</td> <td>    2.390</td> <td>   -3.511</td> <td> 0.001</td> <td>  -13.104</td> <td>   -3.677</td>\n",
              "</tr>\n",
              "<tr>\n",
              "  <th>Car_Name[T.alto k10]</th>                  <td>   -6.8457</td> <td>    1.943</td> <td>   -3.524</td> <td> 0.001</td> <td>  -10.677</td> <td>   -3.014</td>\n",
              "</tr>\n",
              "<tr>\n",
              "  <th>Car_Name[T.amaze]</th>                     <td>   -7.2097</td> <td>    1.900</td> <td>   -3.795</td> <td> 0.000</td> <td>  -10.957</td> <td>   -3.462</td>\n",
              "</tr>\n",
              "<tr>\n",
              "  <th>Car_Name[T.baleno]</th>                    <td>   -7.4839</td> <td>    2.379</td> <td>   -3.145</td> <td> 0.002</td> <td>  -12.177</td> <td>   -2.791</td>\n",
              "</tr>\n",
              "<tr>\n",
              "  <th>Car_Name[T.brio]</th>                      <td>   -6.5151</td> <td>    1.881</td> <td>   -3.464</td> <td> 0.001</td> <td>  -10.225</td> <td>   -2.805</td>\n",
              "</tr>\n",
              "<tr>\n",
              "  <th>Car_Name[T.camry]</th>                     <td>  -13.1353</td> <td>    3.307</td> <td>   -3.972</td> <td> 0.000</td> <td>  -19.657</td> <td>   -6.614</td>\n",
              "</tr>\n",
              "<tr>\n",
              "  <th>Car_Name[T.ciaz]</th>                      <td>   -6.6850</td> <td>    1.882</td> <td>   -3.553</td> <td> 0.000</td> <td>  -10.396</td> <td>   -2.974</td>\n",
              "</tr>\n",
              "<tr>\n",
              "  <th>Car_Name[T.city]</th>                      <td>   -6.7071</td> <td>    1.846</td> <td>   -3.633</td> <td> 0.000</td> <td>  -10.348</td> <td>   -3.066</td>\n",
              "</tr>\n",
              "<tr>\n",
              "  <th>Car_Name[T.corolla]</th>                   <td>   -6.7008</td> <td>    2.344</td> <td>   -2.858</td> <td> 0.005</td> <td>  -11.324</td> <td>   -2.077</td>\n",
              "</tr>\n",
              "<tr>\n",
              "  <th>Car_Name[T.corolla altis]</th>             <td>   -9.0823</td> <td>    1.932</td> <td>   -4.701</td> <td> 0.000</td> <td>  -12.893</td> <td>   -5.272</td>\n",
              "</tr>\n",
              "<tr>\n",
              "  <th>Car_Name[T.creta]</th>                     <td>   -4.6891</td> <td>    2.043</td> <td>   -2.295</td> <td> 0.023</td> <td>   -8.718</td> <td>   -0.660</td>\n",
              "</tr>\n",
              "<tr>\n",
              "  <th>Car_Name[T.dzire]</th>                     <td>   -6.7909</td> <td>    1.941</td> <td>   -3.499</td> <td> 0.001</td> <td>  -10.619</td> <td>   -2.963</td>\n",
              "</tr>\n",
              "<tr>\n",
              "  <th>Car_Name[T.elantra]</th>                   <td>   -5.2924</td> <td>    2.120</td> <td>   -2.496</td> <td> 0.013</td> <td>   -9.474</td> <td>   -1.110</td>\n",
              "</tr>\n",
              "<tr>\n",
              "  <th>Car_Name[T.eon]</th>                       <td>   -7.7286</td> <td>    1.936</td> <td>   -3.991</td> <td> 0.000</td> <td>  -11.547</td> <td>   -3.910</td>\n",
              "</tr>\n",
              "<tr>\n",
              "  <th>Car_Name[T.ertiga]</th>                    <td>   -7.1352</td> <td>    1.916</td> <td>   -3.723</td> <td> 0.000</td> <td>  -10.915</td> <td>   -3.356</td>\n",
              "</tr>\n",
              "<tr>\n",
              "  <th>Car_Name[T.etios cross]</th>               <td>   -7.7131</td> <td>    2.008</td> <td>   -3.841</td> <td> 0.000</td> <td>  -11.674</td> <td>   -3.752</td>\n",
              "</tr>\n",
              "<tr>\n",
              "  <th>Car_Name[T.etios g]</th>                   <td>   -7.1368</td> <td>    2.031</td> <td>   -3.514</td> <td> 0.001</td> <td>  -11.142</td> <td>   -3.132</td>\n",
              "</tr>\n",
              "<tr>\n",
              "  <th>Car_Name[T.etios gd]</th>                  <td>   -8.2477</td> <td>    2.347</td> <td>   -3.514</td> <td> 0.001</td> <td>  -12.877</td> <td>   -3.618</td>\n",
              "</tr>\n",
              "<tr>\n",
              "  <th>Car_Name[T.etios liva]</th>                <td>   -6.8468</td> <td>    1.941</td> <td>   -3.527</td> <td> 0.001</td> <td>  -10.676</td> <td>   -3.018</td>\n",
              "</tr>\n",
              "<tr>\n",
              "  <th>Car_Name[T.fortuner]</th>                  <td>   -6.6251</td> <td>    2.249</td> <td>   -2.946</td> <td> 0.004</td> <td>  -11.060</td> <td>   -2.190</td>\n",
              "</tr>\n",
              "<tr>\n",
              "  <th>Car_Name[T.grand i10]</th>                 <td>   -6.5285</td> <td>    1.900</td> <td>   -3.435</td> <td> 0.001</td> <td>  -10.276</td> <td>   -2.781</td>\n",
              "</tr>\n",
              "<tr>\n",
              "  <th>Car_Name[T.i10]</th>                       <td>   -5.3192</td> <td>    1.911</td> <td>   -2.783</td> <td> 0.006</td> <td>   -9.088</td> <td>   -1.550</td>\n",
              "</tr>\n",
              "<tr>\n",
              "  <th>Car_Name[T.i20]</th>                       <td>   -6.5627</td> <td>    1.866</td> <td>   -3.518</td> <td> 0.001</td> <td>  -10.242</td> <td>   -2.883</td>\n",
              "</tr>\n",
              "<tr>\n",
              "  <th>Car_Name[T.ignis]</th>                     <td>   -7.5597</td> <td>    2.377</td> <td>   -3.180</td> <td> 0.002</td> <td>  -12.248</td> <td>   -2.871</td>\n",
              "</tr>\n",
              "<tr>\n",
              "  <th>Car_Name[T.innova]</th>                    <td>   -4.1072</td> <td>    1.902</td> <td>   -2.159</td> <td> 0.032</td> <td>   -7.859</td> <td>   -0.355</td>\n",
              "</tr>\n",
              "<tr>\n",
              "  <th>Car_Name[T.jazz]</th>                      <td>   -6.9698</td> <td>    1.907</td> <td>   -3.655</td> <td> 0.000</td> <td>  -10.731</td> <td>   -3.209</td>\n",
              "</tr>\n",
              "<tr>\n",
              "  <th>Car_Name[T.land cruiser]</th>              <td>  -23.8385</td> <td>    5.915</td> <td>   -4.030</td> <td> 0.000</td> <td>  -35.504</td> <td>  -12.173</td>\n",
              "</tr>\n",
              "<tr>\n",
              "  <th>Car_Name[T.omni]</th>                      <td>   -6.2374</td> <td>    2.343</td> <td>   -2.662</td> <td> 0.008</td> <td>  -10.859</td> <td>   -1.616</td>\n",
              "</tr>\n",
              "<tr>\n",
              "  <th>Car_Name[T.ritz]</th>                      <td>   -6.6291</td> <td>    1.942</td> <td>   -3.414</td> <td> 0.001</td> <td>  -10.458</td> <td>   -2.800</td>\n",
              "</tr>\n",
              "<tr>\n",
              "  <th>Car_Name[T.s cross]</th>                   <td>   -6.9676</td> <td>    2.347</td> <td>   -2.969</td> <td> 0.003</td> <td>  -11.596</td> <td>   -2.339</td>\n",
              "</tr>\n",
              "<tr>\n",
              "  <th>Car_Name[T.swift]</th>                     <td>   -6.2566</td> <td>    1.840</td> <td>   -3.401</td> <td> 0.001</td> <td>   -9.885</td> <td>   -2.628</td>\n",
              "</tr>\n",
              "<tr>\n",
              "  <th>Car_Name[T.sx4]</th>                       <td>   -5.7083</td> <td>    1.876</td> <td>   -3.042</td> <td> 0.003</td> <td>   -9.409</td> <td>   -2.008</td>\n",
              "</tr>\n",
              "<tr>\n",
              "  <th>Car_Name[T.verna]</th>                     <td>   -6.5521</td> <td>    1.843</td> <td>   -3.555</td> <td> 0.000</td> <td>  -10.187</td> <td>   -2.917</td>\n",
              "</tr>\n",
              "<tr>\n",
              "  <th>Car_Name[T.vitara brezza]</th>             <td>   -6.8715</td> <td>    2.377</td> <td>   -2.891</td> <td> 0.004</td> <td>  -11.559</td> <td>   -2.184</td>\n",
              "</tr>\n",
              "<tr>\n",
              "  <th>Car_Name[T.wagon r]</th>                   <td>   -5.1480</td> <td>    1.952</td> <td>   -2.637</td> <td> 0.009</td> <td>   -8.998</td> <td>   -1.298</td>\n",
              "</tr>\n",
              "<tr>\n",
              "  <th>Car_Name[T.xcent]</th>                     <td>   -7.2875</td> <td>    2.041</td> <td>   -3.571</td> <td> 0.000</td> <td>  -11.313</td> <td>   -3.262</td>\n",
              "</tr>\n",
              "<tr>\n",
              "  <th>Fuel_Type[T.Diesel]</th>                   <td>    2.4244</td> <td>    1.220</td> <td>    1.987</td> <td> 0.048</td> <td>    0.018</td> <td>    4.830</td>\n",
              "</tr>\n",
              "<tr>\n",
              "  <th>Fuel_Type[T.Petrol]</th>                   <td>    1.7485</td> <td>    1.199</td> <td>    1.459</td> <td> 0.146</td> <td>   -0.616</td> <td>    4.113</td>\n",
              "</tr>\n",
              "<tr>\n",
              "  <th>Seller_Type[T.Individual]</th>             <td>   -1.1344</td> <td>    0.948</td> <td>   -1.196</td> <td> 0.233</td> <td>   -3.005</td> <td>    0.736</td>\n",
              "</tr>\n",
              "<tr>\n",
              "  <th>Transmission[T.Manual]</th>                <td>   -0.3280</td> <td>    0.436</td> <td>   -0.753</td> <td> 0.452</td> <td>   -1.187</td> <td>    0.531</td>\n",
              "</tr>\n",
              "<tr>\n",
              "  <th>Year</th>                                  <td>    0.6012</td> <td>    0.057</td> <td>   10.549</td> <td> 0.000</td> <td>    0.489</td> <td>    0.714</td>\n",
              "</tr>\n",
              "<tr>\n",
              "  <th>Present_Price</th>                         <td>    0.5784</td> <td>    0.063</td> <td>    9.127</td> <td> 0.000</td> <td>    0.453</td> <td>    0.703</td>\n",
              "</tr>\n",
              "<tr>\n",
              "  <th>Kms_Driven</th>                            <td>-4.608e-06</td> <td> 3.65e-06</td> <td>   -1.264</td> <td> 0.208</td> <td>-1.18e-05</td> <td> 2.58e-06</td>\n",
              "</tr>\n",
              "<tr>\n",
              "  <th>Owner</th>                                 <td>    0.2718</td> <td>    0.763</td> <td>    0.356</td> <td> 0.722</td> <td>   -1.233</td> <td>    1.776</td>\n",
              "</tr>\n",
              "</table>\n",
              "<table class=\"simpletable\">\n",
              "<tr>\n",
              "  <th>Omnibus:</th>       <td>157.144</td> <th>  Durbin-Watson:     </th> <td>   2.078</td>\n",
              "</tr>\n",
              "<tr>\n",
              "  <th>Prob(Omnibus):</th> <td> 0.000</td>  <th>  Jarque-Bera (JB):  </th> <td>2268.639</td>\n",
              "</tr>\n",
              "<tr>\n",
              "  <th>Skew:</th>          <td> 1.761</td>  <th>  Prob(JB):          </th> <td>    0.00</td>\n",
              "</tr>\n",
              "<tr>\n",
              "  <th>Kurtosis:</th>      <td>15.980</td>  <th>  Cond. No.          </th> <td>7.17e+07</td>\n",
              "</tr>\n",
              "</table><br/><br/>Notes:<br/>[1] Standard Errors assume that the covariance matrix of the errors is correctly specified.<br/>[2] The condition number is large, 7.17e+07. This might indicate that there are<br/>strong multicollinearity or other numerical problems."
            ],
            "text/latex": "\\begin{center}\n\\begin{tabular}{lclc}\n\\toprule\n\\textbf{Dep. Variable:}                         &  Selling\\_Price  & \\textbf{  R-squared:         } &     0.944   \\\\\n\\textbf{Model:}                                 &       OLS        & \\textbf{  Adj. R-squared:    } &     0.914   \\\\\n\\textbf{Method:}                                &  Least Squares   & \\textbf{  F-statistic:       } &     31.51   \\\\\n\\textbf{Date:}                                  & Tue, 20 Feb 2024 & \\textbf{  Prob (F-statistic):} &  9.40e-84   \\\\\n\\textbf{Time:}                                  &     04:30:09     & \\textbf{  Log-Likelihood:    } &   -481.25   \\\\\n\\textbf{No. Observations:}                      &         301      & \\textbf{  AIC:               } &     1174.   \\\\\n\\textbf{Df Residuals:}                          &         195      & \\textbf{  BIC:               } &     1567.   \\\\\n\\textbf{Df Model:}                              &         105      & \\textbf{                     } &             \\\\\n\\textbf{Covariance Type:}                       &    nonrobust     & \\textbf{                     } &             \\\\\n\\bottomrule\n\\end{tabular}\n\\begin{tabular}{lcccccc}\n                                                & \\textbf{coef} & \\textbf{std err} & \\textbf{t} & \\textbf{P$> |$t$|$} & \\textbf{[0.025} & \\textbf{0.975]}  \\\\\n\\midrule\n\\textbf{Intercept}                              &   -1204.9184  &      114.494     &   -10.524  &         0.000        &    -1430.724    &     -979.112     \\\\\n\\textbf{Car\\_Name[T.Activa 3g]}                 &      -4.1987  &        2.078     &    -2.021  &         0.045        &       -8.297    &       -0.100     \\\\\n\\textbf{Car\\_Name[T.Activa 4g]}                 &      -8.2505  &        2.284     &    -3.612  &         0.000        &      -12.756    &       -3.745     \\\\\n\\textbf{Car\\_Name[T.Bajaj  ct 100]}             &      -6.6749  &        2.198     &    -3.036  &         0.003        &      -11.011    &       -2.339     \\\\\n\\textbf{Car\\_Name[T.Bajaj Avenger 150]}         &      -7.1128  &        2.208     &    -3.221  &         0.001        &      -11.468    &       -2.758     \\\\\n\\textbf{Car\\_Name[T.Bajaj Avenger 150 street]}  &      -7.2029  &        2.208     &    -3.262  &         0.001        &      -11.557    &       -2.849     \\\\\n\\textbf{Car\\_Name[T.Bajaj Avenger 220]}         &      -7.5845  &        1.855     &    -4.090  &         0.000        &      -11.242    &       -3.927     \\\\\n\\textbf{Car\\_Name[T.Bajaj Avenger 220 dtsi]}    &      -5.2521  &        1.891     &    -2.778  &         0.006        &       -8.981    &       -1.523     \\\\\n\\textbf{Car\\_Name[T.Bajaj Avenger Street 220]}  &      -4.4151  &        2.150     &    -2.053  &         0.041        &       -8.656    &       -0.175     \\\\\n\\textbf{Car\\_Name[T.Bajaj Discover 100]}        &      -5.5338  &        2.173     &    -2.547  &         0.012        &       -9.819    &       -1.249     \\\\\n\\textbf{Car\\_Name[T.Bajaj Discover 125]}        &      -5.0151  &        2.041     &    -2.457  &         0.015        &       -9.041    &       -0.989     \\\\\n\\textbf{Car\\_Name[T.Bajaj Dominar 400]}         &      -7.5035  &        2.216     &    -3.386  &         0.001        &      -11.874    &       -3.133     \\\\\n\\textbf{Car\\_Name[T.Bajaj Pulsar  NS 200]}      &      -6.0873  &        2.179     &    -2.793  &         0.006        &      -10.385    &       -1.789     \\\\\n\\textbf{Car\\_Name[T.Bajaj Pulsar 135 LS]}       &      -6.1369  &        2.183     &    -2.811  &         0.005        &      -10.443    &       -1.831     \\\\\n\\textbf{Car\\_Name[T.Bajaj Pulsar 150]}          &      -3.3633  &        1.715     &    -1.961  &         0.051        &       -6.746    &        0.020     \\\\\n\\textbf{Car\\_Name[T.Bajaj Pulsar 220 F]}        &      -5.4984  &        1.895     &    -2.901  &         0.004        &       -9.236    &       -1.760     \\\\\n\\textbf{Car\\_Name[T.Bajaj Pulsar NS 200]}       &      -5.2058  &        1.788     &    -2.912  &         0.004        &       -8.732    &       -1.680     \\\\\n\\textbf{Car\\_Name[T.Bajaj Pulsar RS200]}        &      -7.0849  &        2.204     &    -3.214  &         0.002        &      -11.432    &       -2.738     \\\\\n\\textbf{Car\\_Name[T.Hero  CBZ Xtreme]}          &      -2.6474  &        2.127     &    -1.245  &         0.215        &       -6.842    &        1.548     \\\\\n\\textbf{Car\\_Name[T.Hero  Ignitor Disc]}        &      -5.9659  &        2.313     &    -2.580  &         0.011        &      -10.527    &       -1.405     \\\\\n\\textbf{Car\\_Name[T.Hero Extreme]}              &      -5.7131  &        1.905     &    -2.999  &         0.003        &       -9.470    &       -1.956     \\\\\n\\textbf{Car\\_Name[T.Hero Glamour]}              &      -5.6254  &        2.172     &    -2.590  &         0.010        &       -9.909    &       -1.341     \\\\\n\\textbf{Car\\_Name[T.Hero Honda CBZ extreme]}    &      -4.1558  &        2.148     &    -1.935  &         0.054        &       -8.392    &        0.080     \\\\\n\\textbf{Car\\_Name[T.Hero Honda Passion Pro]}    &      -4.7459  &        2.160     &    -2.197  &         0.029        &       -9.005    &       -0.486     \\\\\n\\textbf{Car\\_Name[T.Hero Hunk]}                 &      -2.3012  &        2.259     &    -1.019  &         0.310        &       -6.757    &        2.154     \\\\\n\\textbf{Car\\_Name[T.Hero Passion Pro]}          &      -7.0071  &        1.937     &    -3.618  &         0.000        &      -10.827    &       -3.187     \\\\\n\\textbf{Car\\_Name[T.Hero Passion X pro]}        &      -7.1076  &        2.211     &    -3.215  &         0.002        &      -11.468    &       -2.748     \\\\\n\\textbf{Car\\_Name[T.Hero Splender Plus]}        &      -7.1796  &        2.214     &    -3.243  &         0.001        &      -11.546    &       -2.813     \\\\\n\\textbf{Car\\_Name[T.Hero Splender iSmart]}      &      -6.9546  &        1.936     &    -3.592  &         0.000        &      -10.773    &       -3.136     \\\\\n\\textbf{Car\\_Name[T.Hero Super Splendor]}       &      -0.6951  &        2.119     &    -0.328  &         0.743        &       -4.875    &        3.484     \\\\\n\\textbf{Car\\_Name[T.Honda Activa 125]}          &      -7.6294  &        2.268     &    -3.364  &         0.001        &      -12.102    &       -3.157     \\\\\n\\textbf{Car\\_Name[T.Honda Activa 4G]}           &      -8.1724  &        2.028     &    -4.030  &         0.000        &      -12.172    &       -4.173     \\\\\n\\textbf{Car\\_Name[T.Honda CB Hornet 160R]}      &      -7.5752  &        1.855     &    -4.084  &         0.000        &      -11.234    &       -3.917     \\\\\n\\textbf{Car\\_Name[T.Honda CB Shine]}            &      -3.7592  &        1.866     &    -2.015  &         0.045        &       -7.439    &       -0.080     \\\\\n\\textbf{Car\\_Name[T.Honda CB Trigger]}          &      -5.5756  &        2.172     &    -2.567  &         0.011        &       -9.859    &       -1.292     \\\\\n\\textbf{Car\\_Name[T.Honda CB Unicorn]}          &      -6.6897  &        2.195     &    -3.048  &         0.003        &      -11.018    &       -2.361     \\\\\n\\textbf{Car\\_Name[T.Honda CB twister]}          &      -4.6671  &        1.882     &    -2.480  &         0.014        &       -8.379    &       -0.955     \\\\\n\\textbf{Car\\_Name[T.Honda CBR 150]}             &      -5.8705  &        1.900     &    -3.090  &         0.002        &       -9.618    &       -2.123     \\\\\n\\textbf{Car\\_Name[T.Honda Dream Yuga ]}         &      -7.8263  &        2.226     &    -3.517  &         0.001        &      -12.216    &       -3.437     \\\\\n\\textbf{Car\\_Name[T.Honda Karizma]}             &      -3.8430  &        1.877     &    -2.048  &         0.042        &       -7.544    &       -0.142     \\\\\n\\textbf{Car\\_Name[T.Hyosung GT250R]}            &      -7.0713  &        2.307     &    -3.065  &         0.002        &      -11.622    &       -2.521     \\\\\n\\textbf{Car\\_Name[T.KTM 390 Duke ]}             &      -6.4359  &        2.172     &    -2.963  &         0.003        &      -10.720    &       -2.152     \\\\\n\\textbf{Car\\_Name[T.KTM RC200]}                 &      -7.3145  &        1.940     &    -3.770  &         0.000        &      -11.141    &       -3.488     \\\\\n\\textbf{Car\\_Name[T.KTM RC390]}                 &      -6.7520  &        2.182     &    -3.094  &         0.002        &      -11.055    &       -2.449     \\\\\n\\textbf{Car\\_Name[T.Mahindra Mojo XT300]}       &      -6.9308  &        2.203     &    -3.146  &         0.002        &      -11.276    &       -2.586     \\\\\n\\textbf{Car\\_Name[T.Royal Enfield Bullet 350]}  &      -7.0314  &        2.205     &    -3.189  &         0.002        &      -11.380    &       -2.683     \\\\\n\\textbf{Car\\_Name[T.Royal Enfield Classic 350]} &      -6.4350  &        1.701     &    -3.784  &         0.000        &       -9.789    &       -3.081     \\\\\n\\textbf{Car\\_Name[T.Royal Enfield Classic 500]} &      -4.0942  &        1.866     &    -2.194  &         0.029        &       -7.774    &       -0.415     \\\\\n\\textbf{Car\\_Name[T.Royal Enfield Thunder 350]} &      -5.8790  &        1.755     &    -3.350  &         0.001        &       -9.340    &       -2.418     \\\\\n\\textbf{Car\\_Name[T.Royal Enfield Thunder 500]} &      -6.3953  &        1.813     &    -3.527  &         0.001        &       -9.971    &       -2.819     \\\\\n\\textbf{Car\\_Name[T.Suzuki Access 125]}         &      -3.0273  &        2.203     &    -1.374  &         0.171        &       -7.373    &        1.318     \\\\\n\\textbf{Car\\_Name[T.TVS Apache RTR 160]}        &      -6.2303  &        1.816     &    -3.430  &         0.001        &       -9.813    &       -2.648     \\\\\n\\textbf{Car\\_Name[T.TVS Apache RTR 180]}        &      -5.2640  &        1.893     &    -2.780  &         0.006        &       -8.998    &       -1.530     \\\\\n\\textbf{Car\\_Name[T.TVS Jupyter]}               &      -6.4211  &        2.242     &    -2.864  &         0.005        &      -10.843    &       -1.999     \\\\\n\\textbf{Car\\_Name[T.TVS Sport ]}                &      -7.7852  &        2.226     &    -3.498  &         0.001        &      -12.175    &       -3.395     \\\\\n\\textbf{Car\\_Name[T.TVS Wego]}                  &      -4.1024  &        2.205     &    -1.861  &         0.064        &       -8.450    &        0.246     \\\\\n\\textbf{Car\\_Name[T.UM Renegade Mojave]}        &      -7.3798  &        2.214     &    -3.333  &         0.001        &      -11.746    &       -3.013     \\\\\n\\textbf{Car\\_Name[T.Yamaha FZ  v 2.0]}          &      -6.8932  &        1.933     &    -3.567  &         0.000        &      -10.705    &       -3.081     \\\\\n\\textbf{Car\\_Name[T.Yamaha FZ 16]}              &      -6.4725  &        2.194     &    -2.950  &         0.004        &      -10.799    &       -2.146     \\\\\n\\textbf{Car\\_Name[T.Yamaha FZ S ]}              &      -5.0822  &        2.164     &    -2.349  &         0.020        &       -9.349    &       -0.815     \\\\\n\\textbf{Car\\_Name[T.Yamaha FZ S V 2.0]}         &      -6.9824  &        1.838     &    -3.799  &         0.000        &      -10.607    &       -3.358     \\\\\n\\textbf{Car\\_Name[T.Yamaha Fazer ]}             &      -6.2020  &        2.182     &    -2.842  &         0.005        &      -10.506    &       -1.898     \\\\\n\\textbf{Car\\_Name[T.alto 800]}                  &      -8.3904  &        2.390     &    -3.511  &         0.001        &      -13.104    &       -3.677     \\\\\n\\textbf{Car\\_Name[T.alto k10]}                  &      -6.8457  &        1.943     &    -3.524  &         0.001        &      -10.677    &       -3.014     \\\\\n\\textbf{Car\\_Name[T.amaze]}                     &      -7.2097  &        1.900     &    -3.795  &         0.000        &      -10.957    &       -3.462     \\\\\n\\textbf{Car\\_Name[T.baleno]}                    &      -7.4839  &        2.379     &    -3.145  &         0.002        &      -12.177    &       -2.791     \\\\\n\\textbf{Car\\_Name[T.brio]}                      &      -6.5151  &        1.881     &    -3.464  &         0.001        &      -10.225    &       -2.805     \\\\\n\\textbf{Car\\_Name[T.camry]}                     &     -13.1353  &        3.307     &    -3.972  &         0.000        &      -19.657    &       -6.614     \\\\\n\\textbf{Car\\_Name[T.ciaz]}                      &      -6.6850  &        1.882     &    -3.553  &         0.000        &      -10.396    &       -2.974     \\\\\n\\textbf{Car\\_Name[T.city]}                      &      -6.7071  &        1.846     &    -3.633  &         0.000        &      -10.348    &       -3.066     \\\\\n\\textbf{Car\\_Name[T.corolla]}                   &      -6.7008  &        2.344     &    -2.858  &         0.005        &      -11.324    &       -2.077     \\\\\n\\textbf{Car\\_Name[T.corolla altis]}             &      -9.0823  &        1.932     &    -4.701  &         0.000        &      -12.893    &       -5.272     \\\\\n\\textbf{Car\\_Name[T.creta]}                     &      -4.6891  &        2.043     &    -2.295  &         0.023        &       -8.718    &       -0.660     \\\\\n\\textbf{Car\\_Name[T.dzire]}                     &      -6.7909  &        1.941     &    -3.499  &         0.001        &      -10.619    &       -2.963     \\\\\n\\textbf{Car\\_Name[T.elantra]}                   &      -5.2924  &        2.120     &    -2.496  &         0.013        &       -9.474    &       -1.110     \\\\\n\\textbf{Car\\_Name[T.eon]}                       &      -7.7286  &        1.936     &    -3.991  &         0.000        &      -11.547    &       -3.910     \\\\\n\\textbf{Car\\_Name[T.ertiga]}                    &      -7.1352  &        1.916     &    -3.723  &         0.000        &      -10.915    &       -3.356     \\\\\n\\textbf{Car\\_Name[T.etios cross]}               &      -7.7131  &        2.008     &    -3.841  &         0.000        &      -11.674    &       -3.752     \\\\\n\\textbf{Car\\_Name[T.etios g]}                   &      -7.1368  &        2.031     &    -3.514  &         0.001        &      -11.142    &       -3.132     \\\\\n\\textbf{Car\\_Name[T.etios gd]}                  &      -8.2477  &        2.347     &    -3.514  &         0.001        &      -12.877    &       -3.618     \\\\\n\\textbf{Car\\_Name[T.etios liva]}                &      -6.8468  &        1.941     &    -3.527  &         0.001        &      -10.676    &       -3.018     \\\\\n\\textbf{Car\\_Name[T.fortuner]}                  &      -6.6251  &        2.249     &    -2.946  &         0.004        &      -11.060    &       -2.190     \\\\\n\\textbf{Car\\_Name[T.grand i10]}                 &      -6.5285  &        1.900     &    -3.435  &         0.001        &      -10.276    &       -2.781     \\\\\n\\textbf{Car\\_Name[T.i10]}                       &      -5.3192  &        1.911     &    -2.783  &         0.006        &       -9.088    &       -1.550     \\\\\n\\textbf{Car\\_Name[T.i20]}                       &      -6.5627  &        1.866     &    -3.518  &         0.001        &      -10.242    &       -2.883     \\\\\n\\textbf{Car\\_Name[T.ignis]}                     &      -7.5597  &        2.377     &    -3.180  &         0.002        &      -12.248    &       -2.871     \\\\\n\\textbf{Car\\_Name[T.innova]}                    &      -4.1072  &        1.902     &    -2.159  &         0.032        &       -7.859    &       -0.355     \\\\\n\\textbf{Car\\_Name[T.jazz]}                      &      -6.9698  &        1.907     &    -3.655  &         0.000        &      -10.731    &       -3.209     \\\\\n\\textbf{Car\\_Name[T.land cruiser]}              &     -23.8385  &        5.915     &    -4.030  &         0.000        &      -35.504    &      -12.173     \\\\\n\\textbf{Car\\_Name[T.omni]}                      &      -6.2374  &        2.343     &    -2.662  &         0.008        &      -10.859    &       -1.616     \\\\\n\\textbf{Car\\_Name[T.ritz]}                      &      -6.6291  &        1.942     &    -3.414  &         0.001        &      -10.458    &       -2.800     \\\\\n\\textbf{Car\\_Name[T.s cross]}                   &      -6.9676  &        2.347     &    -2.969  &         0.003        &      -11.596    &       -2.339     \\\\\n\\textbf{Car\\_Name[T.swift]}                     &      -6.2566  &        1.840     &    -3.401  &         0.001        &       -9.885    &       -2.628     \\\\\n\\textbf{Car\\_Name[T.sx4]}                       &      -5.7083  &        1.876     &    -3.042  &         0.003        &       -9.409    &       -2.008     \\\\\n\\textbf{Car\\_Name[T.verna]}                     &      -6.5521  &        1.843     &    -3.555  &         0.000        &      -10.187    &       -2.917     \\\\\n\\textbf{Car\\_Name[T.vitara brezza]}             &      -6.8715  &        2.377     &    -2.891  &         0.004        &      -11.559    &       -2.184     \\\\\n\\textbf{Car\\_Name[T.wagon r]}                   &      -5.1480  &        1.952     &    -2.637  &         0.009        &       -8.998    &       -1.298     \\\\\n\\textbf{Car\\_Name[T.xcent]}                     &      -7.2875  &        2.041     &    -3.571  &         0.000        &      -11.313    &       -3.262     \\\\\n\\textbf{Fuel\\_Type[T.Diesel]}                   &       2.4244  &        1.220     &     1.987  &         0.048        &        0.018    &        4.830     \\\\\n\\textbf{Fuel\\_Type[T.Petrol]}                   &       1.7485  &        1.199     &     1.459  &         0.146        &       -0.616    &        4.113     \\\\\n\\textbf{Seller\\_Type[T.Individual]}             &      -1.1344  &        0.948     &    -1.196  &         0.233        &       -3.005    &        0.736     \\\\\n\\textbf{Transmission[T.Manual]}                 &      -0.3280  &        0.436     &    -0.753  &         0.452        &       -1.187    &        0.531     \\\\\n\\textbf{Year}                                   &       0.6012  &        0.057     &    10.549  &         0.000        &        0.489    &        0.714     \\\\\n\\textbf{Present\\_Price}                         &       0.5784  &        0.063     &     9.127  &         0.000        &        0.453    &        0.703     \\\\\n\\textbf{Kms\\_Driven}                            &   -4.608e-06  &     3.65e-06     &    -1.264  &         0.208        &    -1.18e-05    &     2.58e-06     \\\\\n\\textbf{Owner}                                  &       0.2718  &        0.763     &     0.356  &         0.722        &       -1.233    &        1.776     \\\\\n\\bottomrule\n\\end{tabular}\n\\begin{tabular}{lclc}\n\\textbf{Omnibus:}       & 157.144 & \\textbf{  Durbin-Watson:     } &    2.078  \\\\\n\\textbf{Prob(Omnibus):} &   0.000 & \\textbf{  Jarque-Bera (JB):  } & 2268.639  \\\\\n\\textbf{Skew:}          &   1.761 & \\textbf{  Prob(JB):          } &     0.00  \\\\\n\\textbf{Kurtosis:}      &  15.980 & \\textbf{  Cond. No.          } & 7.17e+07  \\\\\n\\bottomrule\n\\end{tabular}\n%\\caption{OLS Regression Results}\n\\end{center}\n\nNotes: \\newline\n [1] Standard Errors assume that the covariance matrix of the errors is correctly specified. \\newline\n [2] The condition number is large, 7.17e+07. This might indicate that there are \\newline\n strong multicollinearity or other numerical problems."
          },
          "metadata": {},
          "execution_count": 75
        }
      ]
    },
    {
      "cell_type": "markdown",
      "source": [
        "**Points to be Noted**\n",
        "\n",
        "\n",
        "For Regression of transmission the following are significant variables as its P(t) value is less than 0.05:"
      ],
      "metadata": {
        "id": "YbtG0lBFJ55H"
      }
    },
    {
      "cell_type": "code",
      "source": [
        "target=y\n",
        "data=h2o.deep_copy(df, 'data')\n",
        "\n",
        "splits = data.split_frame(ratios=[0.7, 0.15], seed=1)\n",
        "\n",
        "train = splits[0]\n",
        "valid = splits[1]\n",
        "test = splits[2]\n",
        "\n",
        "print (\"Rows in Train\",train.nrow)\n",
        "print (\"Rows in Validation\",valid.nrow)\n",
        "print (\"Rows in Test\",test.nrow)\n"
      ],
      "metadata": {
        "colab": {
          "base_uri": "https://localhost:8080/"
        },
        "id": "nk3j8NjJKjcw",
        "outputId": "47afccff-4a8f-4043-fc7b-4b6081c2c4f3"
      },
      "execution_count": 76,
      "outputs": [
        {
          "output_type": "stream",
          "name": "stdout",
          "text": [
            "Rows in Train 216\n",
            "Rows in Validation 45\n",
            "Rows in Test 40\n"
          ]
        }
      ]
    },
    {
      "cell_type": "code",
      "source": [
        "aml = H2OAutoML(max_models =10,max_runtime_secs_per_model=30,exclude_algos=['DeepLearning','DRF'],\n",
        "                balance_classes=True,\tseed =1)\n",
        "aml.train(training_frame = train, y = y)\n",
        "\n",
        "lb = aml.leaderboard\n",
        "lb.head(rows=lb.nrows)"
      ],
      "metadata": {
        "colab": {
          "base_uri": "https://localhost:8080/"
        },
        "id": "9eHeGWasKnlT",
        "outputId": "3ad1c796-2fe2-4321-9d3c-6b4576e00c4c"
      },
      "execution_count": null,
      "outputs": [
        {
          "output_type": "stream",
          "name": "stdout",
          "text": [
            "AutoML progress: |██\n",
            "04:30:19.382: GBM_1_AutoML_2_20240220_43010 [GBM def_5] failed: water.exceptions.H2OModelBuilderIllegalArgumentException: Illegal argument(s) for GBM model: GBM_1_AutoML_2_20240220_43010.  Details: ERRR on field: _min_rows: The dataset size is too small to split for min_rows=100.0: must have at least 200.0 (weighted) rows, but have only 172.0.\n",
            "ERRR on field: _min_rows: The dataset size is too small to split for min_rows=100.0: must have at least 200.0 (weighted) rows, but have only 173.0.\n",
            "ERRR on field: _min_rows: The dataset size is too small to split for min_rows=100.0: must have at least 200.0 (weighted) rows, but have only 173.0.\n",
            "ERRR on field: _min_rows: The dataset size is too small to split for min_rows=100.0: must have at least 200.0 (weighted) rows, but have only 173.0.\n",
            "ERRR on field: _min_rows: The dataset size is too small to split for min_rows=100.0: must have at least 200.0 (weighted) rows, but have only 173.0.\n",
            "\n",
            "\n",
            "█████████"
          ]
        }
      ]
    },
    {
      "cell_type": "code",
      "source": [
        "best_model = aml.get_best_model()\n",
        "print(best_model)"
      ],
      "metadata": {
        "id": "xaWSZruLKtDn"
      },
      "execution_count": null,
      "outputs": []
    },
    {
      "cell_type": "code",
      "source": [
        "# automl\n",
        "from h2o.estimators.glm import H2OGeneralizedLinearEstimator\n",
        "#setting alpha=0, lambda_=0 means no selection of regularization\n",
        "\n",
        "glm_fit1 = H2OGeneralizedLinearEstimator(family='gaussian', model_id='glm_fit1',alpha=0,lambda_= 0)\n",
        "\n",
        "glm_fit1.train(x=x, y=y, training_frame=train)\n",
        "h2o.display.toggle_user_tips( on=False)"
      ],
      "metadata": {
        "id": "w2I6D1S3Kxrr"
      },
      "execution_count": null,
      "outputs": []
    },
    {
      "cell_type": "code",
      "source": [
        "#allowing the model to choose optimum regularization\n",
        "glm_fit2 = H2OGeneralizedLinearEstimator(family='gaussian', model_id='glm_fit2', lambda_search=True)\n",
        "glm_fit2.train(x=x, y=y, training_frame=train)\n",
        "h2o.display.toggle_user_tips()"
      ],
      "metadata": {
        "id": "QSE6g5wuK0k2"
      },
      "execution_count": null,
      "outputs": []
    },
    {
      "cell_type": "code",
      "source": [
        "glm_perf1 = glm_fit1.model_performance(valid)\n",
        "glm_perf2 = glm_fit2.model_performance(valid)\n",
        "\n",
        "# Print model performance\n",
        "print ('MSE for glm model without regularization:',glm_perf1.mse(),'R-squared for glm model without regularization:',glm_perf1.r2())\n",
        "print ('MSE for glm model with regularization:',glm_perf2.mse(),'R-squared for glm model with regularization:',glm_perf2.r2())"
      ],
      "metadata": {
        "id": "RTmYNEVHK6Qr"
      },
      "execution_count": null,
      "outputs": []
    },
    {
      "cell_type": "code",
      "source": [
        "# Print prediction\n",
        "pred = glm_fit2.predict(test)\n",
        "pred.head()"
      ],
      "metadata": {
        "id": "RX28TR7kLChE"
      },
      "execution_count": null,
      "outputs": []
    },
    {
      "cell_type": "code",
      "source": [
        "#Variable importance\n",
        "varimp = glm_fit2.varimp(use_pandas=True)\n",
        "varimp.head(10)"
      ],
      "metadata": {
        "id": "NS8I_y99qttv"
      },
      "execution_count": null,
      "outputs": []
    },
    {
      "cell_type": "markdown",
      "source": [
        "##Question & Answers\n",
        "\n",
        "1. **Is the relationship significant?**\n",
        "- The OLS regression results show that many car names have significant p-values (P>|t| < 0.05), suggesting a significant relationship between these car names and the selling price.\n",
        "\n",
        "2. **Are any model assumptions violated?**\n",
        "- The VIF values for 'Year', 'Selling_Price', and 'Present_Price' in one of the models are quite high, which indicates potential multicollinearity. This could violate the assumption of no multicollinearity for linear regression models.\n",
        "- The assumption of normally distributed residuals might be violated, as indicated by the Omnibus test (Prob(Omnibus) is very low) and the Jarque-Bera test (Prob(JB) is 0). The skewness and kurtosis values also indicate that the residuals are not normally distributed.\n",
        "\n",
        "3. **Is there any multicollinearity in the model?**\n",
        "- Yes, as mentioned, the VIF values indicate multicollinearity, particularly between 'Year', 'Selling_Price', and 'Present_Price'.\n",
        "\n",
        "4. **In the multivariate models, are predictor variables independent of all the other predictor variables?**\n",
        "- No, the VIF values suggest that some predictor variables are not independent of each other.\n",
        "\n",
        "5. **In multivariate models, rank the most significant predictor variables and exclude insignificant ones from the model.**\n",
        " 1. Present_Price\n",
        " 2. Year\n",
        " 3.\tCar_Name\n",
        " 4.\tFuel_Type.Diesel\n",
        " 5.\tFuel_Type.Petrol\n",
        "\n",
        "\n",
        "\n",
        "\n",
        "\n",
        "6. **Does the model make sense?**\n",
        "- The OLS model, which includes car names as predictor variables, might not be the most interpretable or practical for predictions, considering that it would not generalize well to car names not present in the dataset. It might make more sense to include more general features of the cars that can be applied to a wider range of vehicles.\n",
        "\n",
        "7. **Does regularization help?**\n",
        "- Regularization appears to help as the GLM model with regularization has a significantly lower MSE and higher R-squared than the GLM model without regularization.\n",
        "\n",
        "8. **Which independent variables are significant?**\n",
        "- In the OLS regression model, the significant variables are the ones with P>|t| values less than 0.05. In the context of the H2O AutoML models, variable importance scores can be used to determine significance.\n",
        " 1. `Present_Price`\n",
        " 2. `Year`\n",
        " 3. `Car_Name[T.xcent]`\n",
        "\n",
        "9. **Which hyperparameters are important?**\n",
        "- For H2O AutoML, the number of models, maximum runtime seconds per model, and whether to balance classes are important hyperparameters. The leaderboard of the AutoML models shows different models with varying performance, and the best model selected is a Stacked Ensemble, which benefits from hyperparameter tuning of its base learners and metalearner."
      ],
      "metadata": {
        "id": "4gA5x36JNaXd"
      }
    },
    {
      "cell_type": "markdown",
      "source": [
        "##Conclusion:\n",
        "\n",
        "The use of H2O AutoML for predictive modeling in the context of used car prices provided valuable insights and demonstrated the importance of various variables in determining car prices. Through the AutoML process, several models were trained, with the stacked ensemble model emerging as the best performing model. This model leveraged cross-validation and included base models like GBM and XGBoost, indicating the strength of ensemble methods in handling complex regression tasks.\n",
        "\n",
        "Several significant relationships were identified, with the most notable being the relationship between the present price of a car and its selling price. Regularization, implemented through a Generalized Linear Model (GLM), helped in refining the model by penalizing complexity, thus enhancing the predictive performance as evidenced by the improved R-squared value.\n",
        "\n",
        "\n",
        "* The top-performing model in H2O AutoML exhibited an R^2 value near 0.9957, signifying a high capability to predict the selling price with about 99.57% accuracy.\n",
        "*  Implementing regularization significantly enhanced the GLM model's effectiveness, as evidenced by an improved R^2 value of 0.8906, underscoring the importance of regularization in model refinement.\n",
        "* Regularization techniques, including Ridge and Lasso, are instrumental in mitigating overfitting by imposing penalties on coefficient magnitudes, thereby bolstering the model's ability to generalize.\n",
        "* Key hyperparameters pivotal for regularization include alpha (determines the balance between L1 and L2 regularization), lambda (controls the regularization intensity), and lambda_search (facilitates optimal lambda selection), essential for optimizing model performance and accuracy."
      ],
      "metadata": {
        "id": "YLp1FNK2goRh"
      }
    },
    {
      "cell_type": "markdown",
      "source": [
        "##Reference\n",
        "\n",
        "1. [Python Data Science Handbook](https://jakevdp.github.io/PythonDataScienceHandbook/)\n",
        "\n",
        "2. [Intro to h2o](https://https://github.com/aiskunks/Skunks_Skool/blob/main/INFO_6105/6105/intro-to-h2o.ipynb)\n",
        "\n",
        "3. [For Metrics](https://towardsdatascience.com/artificial-intelligence-made-easy-187ecb90c299)\n",
        "\n",
        "4. [A Deep dive into H2O’s AutoML](https://towardsdatascience.com/a-deep-dive-into-h2os-automl-4b1fe51d3f3e)\n",
        "\n",
        "5. [Github](https://github.com/aiskunks/YouTube/blob/main/A_Crash_Course_in_Statistical_Learning/AutoML/CC_Kaggle_AutoML_Regression_Melbourne_Housing.ipynb)"
      ],
      "metadata": {
        "id": "vYyPNcUQgwl5"
      }
    },
    {
      "cell_type": "markdown",
      "source": [
        "MIT License\n",
        "\n",
        "Copyright (c) 2024 shivanagireddy\n",
        "\n",
        "Permission is hereby granted, free of charge, to any person obtaining a copy\n",
        "of this software and associated documentation files (the \"Software\"), to deal\n",
        "in the Software without restriction, including without limitation the rights\n",
        "to use, copy, modify, merge, publish, distribute, sublicense, and/or sell\n",
        "copies of the Software, and to permit persons to whom the Software is\n",
        "furnished to do so, subject to the following conditions:\n",
        "\n",
        "The above copyright notice and this permission notice shall be included in all\n",
        "copies or substantial portions of the Software.\n",
        "\n",
        "THE SOFTWARE IS PROVIDED \"AS IS\", WITHOUT WARRANTY OF ANY KIND, EXPRESS OR\n",
        "IMPLIED, INCLUDING BUT NOT LIMITED TO THE WARRANTIES OF MERCHANTABILITY,\n",
        "FITNESS FOR A PARTICULAR PURPOSE AND NONINFRINGEMENT. IN NO EVENT SHALL THE\n",
        "AUTHORS OR COPYRIGHT HOLDERS BE LIABLE FOR ANY CLAIM, DAMAGES OR OTHER\n",
        "LIABILITY, WHETHER IN AN ACTION OF CONTRACT, TORT OR OTHERWISE, ARISING FROM,\n",
        "OUT OF OR IN CONNECTION WITH THE SOFTWARE OR THE USE OR OTHER DEALINGS IN THE\n",
        "SOFTWARE."
      ],
      "metadata": {
        "id": "qA1o-AB0iHfe"
      }
    }
  ]
}