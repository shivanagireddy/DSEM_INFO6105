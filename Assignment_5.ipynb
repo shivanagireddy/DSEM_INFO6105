{
  "nbformat": 4,
  "nbformat_minor": 0,
  "metadata": {
    "colab": {
      "provenance": []
    },
    "kernelspec": {
      "name": "python3",
      "display_name": "Python 3"
    },
    "language_info": {
      "name": "python"
    }
  },
  "cells": [
    {
      "cell_type": "markdown",
      "source": [
        "# Abstract\n",
        "\n",
        "In this notebook, the author analyzes how to create neural networks that can detect digits from the MNIST dataset. MNIST is a well-known computer vision dataset that includes many photographs of handwritten numbers. Many deep learning frameworks include APIs that make it simple to load MNIST and other common datasets; yet, these APIs might conceal the process of preparing data for a deep learning model.\n",
        "\n",
        "When working with real-world data, it is critical to convert it into a format that the deep learning system understands. In this notebook, the author explains various techniques to preparing MNIST data for deep learning frameworks like PyTorch and TensorFlow. These methods can involve preparing the data, such as scaling or normalizing the pixel values, transforming the images to tensors or arrays, and dividing the data into training and validation sets.\n",
        "\n",
        "The notebook also contains practical examples of how to prepare MNIST data for a deep learning model using various strategies. This will give readers a better knowledge of how to work with real-world data and generate a training data set appropriate for a deep learning framework."
      ],
      "metadata": {
        "id": "k1aWfCYVlicC"
      }
    },
    {
      "cell_type": "markdown",
      "source": [
        "# Importing Libraries"
      ],
      "metadata": {
        "id": "Yd0moU5BnFi2"
      }
    },
    {
      "cell_type": "code",
      "execution_count": 1,
      "metadata": {
        "id": "DBv6nvK9E9pn"
      },
      "outputs": [],
      "source": [
        "import numpy as np\n",
        "import pandas as pd\n",
        "import matplotlib.pyplot as plt\n",
        "import seaborn as sns\n",
        "from sklearn.model_selection import train_test_split\n",
        "from sklearn.metrics import accuracy_score\n",
        "from tensorflow.keras.utils import to_categorical\n",
        "import tensorflow as tf\n",
        "from tensorflow.keras.models import Sequential\n",
        "from tensorflow.keras.layers import Conv2D, MaxPooling2D, Dropout, Flatten, Dense\n",
        "from sklearn.preprocessing import MinMaxScaler, LabelEncoder\n",
        "from tensorflow.keras import layers, models"
      ]
    },
    {
      "cell_type": "markdown",
      "source": [
        "# Reading Dataset"
      ],
      "metadata": {
        "id": "kdNsVMSYnJN-"
      }
    },
    {
      "cell_type": "code",
      "source": [
        "tmnist_csv_path = '/content/drive/MyDrive/94_character_TMNIST.csv'\n",
        "data_df = pd.read_csv(tmnist_csv_path)\n"
      ],
      "metadata": {
        "id": "IeZ6lN9bFP-H"
      },
      "execution_count": 5,
      "outputs": []
    },
    {
      "cell_type": "markdown",
      "source": [
        "# Check the shape of the dataset"
      ],
      "metadata": {
        "id": "9hQo5Bx3nPB3"
      }
    },
    {
      "cell_type": "code",
      "source": [
        "print(\"Shape of X_images:\", X_images.shape)\n",
        "print(\"Shape of y_labels:\", y_labels.shape)"
      ],
      "metadata": {
        "colab": {
          "base_uri": "https://localhost:8080/"
        },
        "id": "ra1oYxO0F4u_",
        "outputId": "8e9ddfd5-1ebf-4453-8d7d-fcd21dd14c8e"
      },
      "execution_count": 7,
      "outputs": [
        {
          "output_type": "stream",
          "name": "stdout",
          "text": [
            "Shape of X_images: (274093, 28, 28, 1)\n",
            "Shape of y_labels: (274093,)\n"
          ]
        }
      ]
    },
    {
      "cell_type": "markdown",
      "source": [
        "# Display unique labels in the dataset"
      ],
      "metadata": {
        "id": "uQK62We4nS89"
      }
    },
    {
      "cell_type": "code",
      "source": [
        "unique_labels = np.unique(y_labels)\n",
        "print(\"Unique labels:\", unique_labels)"
      ],
      "metadata": {
        "colab": {
          "base_uri": "https://localhost:8080/"
        },
        "id": "AQqz3Z2zGFFK",
        "outputId": "f626feee-2660-41ed-8a9d-c5858debdfc4"
      },
      "execution_count": 8,
      "outputs": [
        {
          "output_type": "stream",
          "name": "stdout",
          "text": [
            "Unique labels: ['!' '\"' '#' '$' '%' '&' \"'\" '(' ')' '*' '+' ',' '-' '.' '/' '0' '1' '2'\n",
            " '3' '4' '5' '6' '7' '8' '9' ':' ';' '<' '=' '>' '?' '@' 'A' 'B' 'C' 'D'\n",
            " 'E' 'F' 'G' 'H' 'I' 'J' 'K' 'L' 'M' 'N' 'O' 'P' 'Q' 'R' 'S' 'T' 'U' 'V'\n",
            " 'W' 'X' 'Y' 'Z' '[' '\\\\' ']' '^' '_' '`' 'a' 'b' 'c' 'd' 'e' 'f' 'g' 'h'\n",
            " 'i' 'j' 'k' 'l' 'm' 'n' 'o' 'p' 'q' 'r' 's' 't' 'u' 'v' 'w' 'x' 'y' 'z'\n",
            " '{' '|' '}' '~']\n"
          ]
        }
      ]
    },
    {
      "cell_type": "markdown",
      "source": [
        "# Step 3: Data Preprocessing"
      ],
      "metadata": {
        "id": "O9W9ctNhnYmS"
      }
    },
    {
      "cell_type": "code",
      "source": [
        "# Reshape and normalize image data\n",
        "X_images = data_df.iloc[:, 2:].values.reshape(-1, 28, 28, 1) / 255.0\n",
        "\n",
        "# Encode labels\n",
        "y_labels = data_df['labels'].values\n",
        "label_encoder = LabelEncoder()\n",
        "encoded_labels = label_encoder.fit_transform(y_labels)\n",
        "one_hot_labels = to_categorical(encoded_labels)"
      ],
      "metadata": {
        "id": "nUkinf0AI_7Y"
      },
      "execution_count": 6,
      "outputs": []
    },
    {
      "cell_type": "markdown",
      "source": [
        "* X_images: Reshaped and normalized image data. The pixel values are reshaped into a 28x28 matrix and normalized to be between 0 and 1.\n",
        "* y_labels: Original labels from the dataset.\n",
        "label_encoder: Instance of LabelEncoder used to encode the categorical labels into numerical values.\n",
        "* encoded_labels: Encoded numerical labels obtained by fitting and transforming original labels using label_encoder.\n",
        "* one_hot_labels: One-hot encoded labels converted from numerical labels using **to_categorical()**."
      ],
      "metadata": {
        "id": "sbfZ-NHbi9SA"
      }
    },
    {
      "cell_type": "markdown",
      "source": [
        "# Step 4: Exploratory Data Analysis"
      ],
      "metadata": {
        "id": "lAM5DBM9nd_j"
      }
    },
    {
      "cell_type": "code",
      "source": [
        "# Display sample images\n",
        "import matplotlib.pyplot as plt"
      ],
      "metadata": {
        "id": "JT6sh1pdJMI6"
      },
      "execution_count": 9,
      "outputs": []
    },
    {
      "cell_type": "code",
      "source": [
        "def show_images(images, labels, num_images=20):\n",
        "    plt.figure(figsize=(10, 10))\n",
        "    for i in range(num_images):\n",
        "        plt.subplot(1, num_images, i+1)\n",
        "        plt.xticks([])\n",
        "        plt.yticks([])\n",
        "        plt.grid(False)\n",
        "        plt.imshow(images[i].reshape(28, 28), cmap=plt.cm.binary)\n",
        "        plt.xlabel(labels[i])\n",
        "    plt.show()"
      ],
      "metadata": {
        "id": "U7dQiY_yJMB9"
      },
      "execution_count": 10,
      "outputs": []
    },
    {
      "cell_type": "code",
      "source": [
        "# Show sample images from the dataset\n",
        "show_images(X_images, y_labels, num_images=20)"
      ],
      "metadata": {
        "colab": {
          "base_uri": "https://localhost:8080/",
          "height": 89
        },
        "id": "-VkDMGKQTPcS",
        "outputId": "0e362d16-72e0-4ade-e6a2-b657e74155a2"
      },
      "execution_count": 11,
      "outputs": [
        {
          "output_type": "display_data",
          "data": {
            "text/plain": [
              "<Figure size 1000x1000 with 20 Axes>"
            ],
            "image/png": "[encoded data removed]"
          },
          "metadata": {}
        }
      ]
    },
    {
      "cell_type": "markdown",
      "source": [
        "* It defines a function **show_images()** to display sample images from the dataset along with their corresponding labels using Matplotlib.\n",
        "* This step provides a visual inspection of the dataset to understand its composition and characteristics."
      ],
      "metadata": {
        "id": "m8snDFAgjkYM"
      }
    },
    {
      "cell_type": "markdown",
      "source": [
        "# Step 5: Data Splitting"
      ],
      "metadata": {
        "id": "R8_6XvOKnmbe"
      }
    },
    {
      "cell_type": "code",
      "source": [
        "# Split the dataset into train and test sets\n",
        "X_train, X_test, y_train, y_test = train_test_split(X_images, one_hot_labels, test_size=0.2, random_state=42)\n"
      ],
      "metadata": {
        "id": "bAN017UkJL6t"
      },
      "execution_count": 12,
      "outputs": []
    },
    {
      "cell_type": "markdown",
      "source": [
        "# Step 6: Model Construction"
      ],
      "metadata": {
        "id": "iDDQIq_lnpQF"
      }
    },
    {
      "cell_type": "code",
      "source": [
        "# Build Convolutional Neural Network (CNN) model\n",
        "model = Sequential([\n",
        "    Conv2D(32, kernel_size=(3, 3), activation='relu', input_shape=(28, 28, 1)),\n",
        "    MaxPooling2D(pool_size=(2, 2)),\n",
        "    Dropout(0.25),\n",
        "    Conv2D(64, (3, 3), activation='relu'),\n",
        "    MaxPooling2D(pool_size=(2, 2)),\n",
        "    Dropout(0.25),\n",
        "    Flatten(),\n",
        "    Dense(128, activation='relu'),\n",
        "    Dropout(0.5),\n",
        "    Dense(len(np.unique(y_labels)), activation='softmax')  # Number of classes\n",
        "])\n",
        "model.compile(loss='categorical_crossentropy', optimizer='adam', metrics=['accuracy'])\n"
      ],
      "metadata": {
        "id": "_RlVUkEZJLzs"
      },
      "execution_count": 13,
      "outputs": []
    },
    {
      "cell_type": "markdown",
      "source": [
        "* It constructs a Convolutional Neural Network (CNN) model using Keras Sequential API.\n",
        "* The model consists of convolutional layers **(Conv2D)**, pooling layers **(MaxPooling2D)**, dropout layers **(Dropout)**, and dense layers **(Dense)**.\n",
        "* The final dense layer has softmax activation with the number of units equal to the number of unique labels in the dataset."
      ],
      "metadata": {
        "id": "inW_MC2ukAU3"
      }
    },
    {
      "cell_type": "markdown",
      "source": [
        "# Step 7: Model Training"
      ],
      "metadata": {
        "id": "v2kXn3AgnsEC"
      }
    },
    {
      "cell_type": "code",
      "source": [
        "# Train the CNN model\n",
        "training_history = model.fit(X_train, y_train, validation_split=0.1, epochs=20, batch_size=128)\n"
      ],
      "metadata": {
        "colab": {
          "base_uri": "https://localhost:8080/"
        },
        "id": "Nn92YXtsJLrw",
        "outputId": "33f38ca7-00aa-46d5-a1e8-0d7a9ed59d55"
      },
      "execution_count": 14,
      "outputs": [
        {
          "output_type": "stream",
          "name": "stdout",
          "text": [
            "Epoch 1/20\n",
            "1542/1542 [==============================] - 178s 114ms/step - loss: 1.0621 - accuracy: 0.7075 - val_loss: 0.4063 - val_accuracy: 0.8692\n",
            "Epoch 2/20\n",
            "1542/1542 [==============================] - 182s 118ms/step - loss: 0.5515 - accuracy: 0.8291 - val_loss: 0.3384 - val_accuracy: 0.8904\n",
            "Epoch 3/20\n",
            "1542/1542 [==============================] - 186s 120ms/step - loss: 0.4734 - accuracy: 0.8520 - val_loss: 0.3060 - val_accuracy: 0.9013\n",
            "Epoch 4/20\n",
            "1542/1542 [==============================] - 173s 112ms/step - loss: 0.4310 - accuracy: 0.8674 - val_loss: 0.2762 - val_accuracy: 0.9110\n",
            "Epoch 5/20\n",
            "1542/1542 [==============================] - 171s 111ms/step - loss: 0.3994 - accuracy: 0.8771 - val_loss: 0.2556 - val_accuracy: 0.9201\n",
            "Epoch 6/20\n",
            "1542/1542 [==============================] - 179s 116ms/step - loss: 0.3778 - accuracy: 0.8837 - val_loss: 0.2477 - val_accuracy: 0.9201\n",
            "Epoch 7/20\n",
            "1542/1542 [==============================] - 167s 108ms/step - loss: 0.3634 - accuracy: 0.8884 - val_loss: 0.2445 - val_accuracy: 0.9220\n",
            "Epoch 8/20\n",
            "1542/1542 [==============================] - 167s 108ms/step - loss: 0.3532 - accuracy: 0.8907 - val_loss: 0.2310 - val_accuracy: 0.9252\n",
            "Epoch 9/20\n",
            "1542/1542 [==============================] - 167s 108ms/step - loss: 0.3387 - accuracy: 0.8949 - val_loss: 0.2293 - val_accuracy: 0.9247\n",
            "Epoch 10/20\n",
            "1542/1542 [==============================] - 166s 108ms/step - loss: 0.3346 - accuracy: 0.8959 - val_loss: 0.2257 - val_accuracy: 0.9255\n",
            "Epoch 11/20\n",
            "1542/1542 [==============================] - 166s 108ms/step - loss: 0.3245 - accuracy: 0.8994 - val_loss: 0.2196 - val_accuracy: 0.9283\n",
            "Epoch 12/20\n",
            "1542/1542 [==============================] - 166s 108ms/step - loss: 0.3182 - accuracy: 0.9008 - val_loss: 0.2169 - val_accuracy: 0.9296\n",
            "Epoch 13/20\n",
            "1542/1542 [==============================] - 167s 109ms/step - loss: 0.3134 - accuracy: 0.9023 - val_loss: 0.2127 - val_accuracy: 0.9315\n",
            "Epoch 14/20\n",
            "1542/1542 [==============================] - 167s 109ms/step - loss: 0.3074 - accuracy: 0.9036 - val_loss: 0.2142 - val_accuracy: 0.9307\n",
            "Epoch 15/20\n",
            "1542/1542 [==============================] - 166s 108ms/step - loss: 0.3067 - accuracy: 0.9048 - val_loss: 0.2128 - val_accuracy: 0.9298\n",
            "Epoch 16/20\n",
            "1542/1542 [==============================] - 167s 108ms/step - loss: 0.2990 - accuracy: 0.9063 - val_loss: 0.2120 - val_accuracy: 0.9295\n",
            "Epoch 17/20\n",
            "1542/1542 [==============================] - 167s 108ms/step - loss: 0.2951 - accuracy: 0.9072 - val_loss: 0.2112 - val_accuracy: 0.9288\n",
            "Epoch 18/20\n",
            "1542/1542 [==============================] - 167s 108ms/step - loss: 0.2940 - accuracy: 0.9072 - val_loss: 0.2024 - val_accuracy: 0.9331\n",
            "Epoch 19/20\n",
            "1542/1542 [==============================] - 170s 110ms/step - loss: 0.2896 - accuracy: 0.9081 - val_loss: 0.2057 - val_accuracy: 0.9320\n",
            "Epoch 20/20\n",
            "1542/1542 [==============================] - 173s 112ms/step - loss: 0.2876 - accuracy: 0.9095 - val_loss: 0.2024 - val_accuracy: 0.9339\n"
          ]
        }
      ]
    },
    {
      "cell_type": "markdown",
      "source": [
        "* The CNN model is trained on the training dataset.\n",
        "Training is performed using the training data (X_train and y_train) with a validation split of 0.1.\n",
        "* The number of epochs and batch size are specified for training."
      ],
      "metadata": {
        "id": "JLJIR4ftkRO2"
      }
    },
    {
      "cell_type": "markdown",
      "source": [
        "# Step 8: Model Evaluation"
      ],
      "metadata": {
        "id": "2ttIhuq2nuo2"
      }
    },
    {
      "cell_type": "code",
      "source": [
        "# Evaluate the model's performance\n",
        "evaluation_score = model.evaluate(X_test, y_test, verbose=0)\n",
        "print('Test loss:', evaluation_score[0])\n",
        "print('Test accuracy:', evaluation_score[1])"
      ],
      "metadata": {
        "colab": {
          "base_uri": "https://localhost:8080/"
        },
        "id": "1vmHeMvzJLdC",
        "outputId": "0acb53b6-8896-4f63-c1bb-7ed32ec65014"
      },
      "execution_count": 15,
      "outputs": [
        {
          "output_type": "stream",
          "name": "stdout",
          "text": [
            "Test loss: 0.2048945426940918\n",
            "Test accuracy: 0.9357704520225525\n"
          ]
        }
      ]
    },
    {
      "cell_type": "markdown",
      "source": [
        "* The trained model's performance is evaluated on the test dataset using the **evaluate()** method.\n",
        "* The test loss and accuracy are printed to assess the model's performance on unseen data."
      ],
      "metadata": {
        "id": "5PhqCEeBksd3"
      }
    },
    {
      "cell_type": "code",
      "source": [
        "# Plot training & validation accuracy\n",
        "plt.plot(training_history.history['accuracy'])\n",
        "plt.plot(training_history.history['val_accuracy'])\n",
        "plt.title('Model accuracy')\n",
        "plt.ylabel('Accuracy')\n",
        "plt.xlabel('Epoch')\n",
        "plt.legend(['Training', 'Validation'], loc='upper left')\n",
        "plt.show()"
      ],
      "metadata": {
        "colab": {
          "base_uri": "https://localhost:8080/",
          "height": 472
        },
        "id": "Pz4voxUXU5gr",
        "outputId": "04bb8194-1f42-4b0d-fde7-c262621fb976"
      },
      "execution_count": 16,
      "outputs": [
        {
          "output_type": "display_data",
          "data": {
            "text/plain": [
              "<Figure size 640x480 with 1 Axes>"
            ],
            "image/png": "[encoded data removed]"
          },
          "metadata": {}
        }
      ]
    },
    {
      "cell_type": "code",
      "source": [
        "# Plot training & validation loss\n",
        "plt.plot(training_history.history['loss'])\n",
        "plt.plot(training_history.history['val_loss'])\n",
        "plt.title('Model loss')\n",
        "plt.ylabel('Loss')\n",
        "plt.xlabel('Epoch')\n",
        "plt.legend(['Training', 'Validation'], loc='upper left')\n",
        "plt.show()"
      ],
      "metadata": {
        "colab": {
          "base_uri": "https://localhost:8080/",
          "height": 472
        },
        "id": "dOuHxJL7U8ZE",
        "outputId": "f51612f4-656e-481c-bd9d-82c667b1dee0"
      },
      "execution_count": 17,
      "outputs": [
        {
          "output_type": "display_data",
          "data": {
            "text/plain": [
              "<Figure size 640x480 with 1 Axes>"
            ],
            "image/png": "[encoded data removed]"
          },
          "metadata": {}
        }
      ]
    },
    {
      "cell_type": "markdown",
      "source": [
        "# Conclusion\n",
        "\n",
        "The assignment on Neural Network Type Classification with the TMNIST dataset was an in-depth look into the capabilities of Convolutional Neural Networks (CNNs) for complicated character recognition. It required multiple essential steps, ranging from preprocessing a large collection of typographic characters to building and iteratively adjusting a CNN model. The research emphasized the necessity of extensive data analysis, strategic model construction, and hyperparameter optimization for high accuracy. This initiative not only provided useful insights into the intricacies of neural network training, but it also demonstrated the need of an adaptive and rigorous approach in machine learning projects. This work demonstrates the usefulness of CNNs in picture classification tasks and establishes a foundation for future research in the subject."
      ],
      "metadata": {
        "id": "CVUGiHUyn4er"
      }
    },
    {
      "cell_type": "markdown",
      "source": [
        "# Reference\n",
        "\n",
        "Dataset link- https://www.kaggle.com/nikbearbrown/tmnist-alphabet-94-characters/\n",
        "\n",
        "Reference has been taken from the towardsdatascience website Link - https://towardsdatascience.com/convolutional-neural-networks-explained-9cc5188c4939 , https://towardsdatascience.com/recurrent-neural-networks-rnns-3f06d7653a85\n"
      ],
      "metadata": {
        "id": "Bodg5PnWn63k"
      }
    },
    {
      "cell_type": "markdown",
      "source": [
        "MIT License\n",
        "\n",
        "Copyright (c) 2024 shivanagireddy\n",
        "\n",
        "Permission is hereby granted, free of charge, to any person obtaining a copy\n",
        "of this software and associated documentation files (the \"Software\"), to deal\n",
        "in the Software without restriction, including without limitation the rights\n",
        "to use, copy, modify, merge, publish, distribute, sublicense, and/or sell\n",
        "copies of the Software, and to permit persons to whom the Software is\n",
        "furnished to do so, subject to the following conditions:\n",
        "\n",
        "The above copyright notice and this permission notice shall be included in all\n",
        "copies or substantial portions of the Software.\n",
        "\n",
        "THE SOFTWARE IS PROVIDED \"AS IS\", WITHOUT WARRANTY OF ANY KIND, EXPRESS OR\n",
        "IMPLIED, INCLUDING BUT NOT LIMITED TO THE WARRANTIES OF MERCHANTABILITY,\n",
        "FITNESS FOR A PARTICULAR PURPOSE AND NONINFRINGEMENT. IN NO EVENT SHALL THE\n",
        "AUTHORS OR COPYRIGHT HOLDERS BE LIABLE FOR ANY CLAIM, DAMAGES OR OTHER\n",
        "LIABILITY, WHETHER IN AN ACTION OF CONTRACT, TORT OR OTHERWISE, ARISING FROM,\n",
        "OUT OF OR IN CONNECTION WITH THE SOFTWARE OR THE USE OR OTHER DEALINGS IN THE\n",
        "SOFTWARE."
      ],
      "metadata": {
        "id": "Cu-NXGW-owtF"
      }
    }
  ]
}